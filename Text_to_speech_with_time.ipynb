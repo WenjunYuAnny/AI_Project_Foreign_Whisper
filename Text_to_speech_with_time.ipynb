{
  "nbformat": 4,
  "nbformat_minor": 0,
  "metadata": {
    "colab": {
      "provenance": [],
      "machine_shape": "hm",
      "gpuType": "V100",
      "include_colab_link": true
    },
    "kernelspec": {
      "name": "python3",
      "display_name": "Python 3"
    },
    "language_info": {
      "name": "python"
    },
    "accelerator": "GPU",
    "widgets": {
      "application/vnd.jupyter.widget-state+json": {
        "2f75f627f63d43aa9230edd6f6030c1f": {
          "model_module": "@jupyter-widgets/controls",
          "model_name": "HBoxModel",
          "model_module_version": "1.5.0",
          "state": {
            "_dom_classes": [],
            "_model_module": "@jupyter-widgets/controls",
            "_model_module_version": "1.5.0",
            "_model_name": "HBoxModel",
            "_view_count": null,
            "_view_module": "@jupyter-widgets/controls",
            "_view_module_version": "1.5.0",
            "_view_name": "HBoxView",
            "box_style": "",
            "children": [
              "IPY_MODEL_ce27e1bc78404ba096a2ee497417eaf3",
              "IPY_MODEL_dddd31f671e246539123f970972439cb",
              "IPY_MODEL_75db1dc5a3284c119ac7a7b9bb15f86f"
            ],
            "layout": "IPY_MODEL_5a55c4de7b554f47ad9d5137c21c9596"
          }
        },
        "ce27e1bc78404ba096a2ee497417eaf3": {
          "model_module": "@jupyter-widgets/controls",
          "model_name": "HTMLModel",
          "model_module_version": "1.5.0",
          "state": {
            "_dom_classes": [],
            "_model_module": "@jupyter-widgets/controls",
            "_model_module_version": "1.5.0",
            "_model_name": "HTMLModel",
            "_view_count": null,
            "_view_module": "@jupyter-widgets/controls",
            "_view_module_version": "1.5.0",
            "_view_name": "HTMLView",
            "description": "",
            "description_tooltip": null,
            "layout": "IPY_MODEL_f08c9d14892447c4b35bd19d1f43eecf",
            "placeholder": "​",
            "style": "IPY_MODEL_1855cdbccd19432187ff3f6b92c83e14",
            "value": "text_2.pt: 100%"
          }
        },
        "dddd31f671e246539123f970972439cb": {
          "model_module": "@jupyter-widgets/controls",
          "model_name": "FloatProgressModel",
          "model_module_version": "1.5.0",
          "state": {
            "_dom_classes": [],
            "_model_module": "@jupyter-widgets/controls",
            "_model_module_version": "1.5.0",
            "_model_name": "FloatProgressModel",
            "_view_count": null,
            "_view_module": "@jupyter-widgets/controls",
            "_view_module_version": "1.5.0",
            "_view_name": "ProgressView",
            "bar_style": "success",
            "description": "",
            "description_tooltip": null,
            "layout": "IPY_MODEL_082416048a7242ff9af41506d0fa02df",
            "max": 5353258741,
            "min": 0,
            "orientation": "horizontal",
            "style": "IPY_MODEL_c3f56bc377d444ab913a7d193a1caadf",
            "value": 5353258741
          }
        },
        "75db1dc5a3284c119ac7a7b9bb15f86f": {
          "model_module": "@jupyter-widgets/controls",
          "model_name": "HTMLModel",
          "model_module_version": "1.5.0",
          "state": {
            "_dom_classes": [],
            "_model_module": "@jupyter-widgets/controls",
            "_model_module_version": "1.5.0",
            "_model_name": "HTMLModel",
            "_view_count": null,
            "_view_module": "@jupyter-widgets/controls",
            "_view_module_version": "1.5.0",
            "_view_name": "HTMLView",
            "description": "",
            "description_tooltip": null,
            "layout": "IPY_MODEL_66470a2f79b64620bab2130cde4d2309",
            "placeholder": "​",
            "style": "IPY_MODEL_5dcc3ecf083f42869e58c555e9a2bf33",
            "value": " 5.35G/5.35G [00:27&lt;00:00, 203MB/s]"
          }
        },
        "5a55c4de7b554f47ad9d5137c21c9596": {
          "model_module": "@jupyter-widgets/base",
          "model_name": "LayoutModel",
          "model_module_version": "1.2.0",
          "state": {
            "_model_module": "@jupyter-widgets/base",
            "_model_module_version": "1.2.0",
            "_model_name": "LayoutModel",
            "_view_count": null,
            "_view_module": "@jupyter-widgets/base",
            "_view_module_version": "1.2.0",
            "_view_name": "LayoutView",
            "align_content": null,
            "align_items": null,
            "align_self": null,
            "border": null,
            "bottom": null,
            "display": null,
            "flex": null,
            "flex_flow": null,
            "grid_area": null,
            "grid_auto_columns": null,
            "grid_auto_flow": null,
            "grid_auto_rows": null,
            "grid_column": null,
            "grid_gap": null,
            "grid_row": null,
            "grid_template_areas": null,
            "grid_template_columns": null,
            "grid_template_rows": null,
            "height": null,
            "justify_content": null,
            "justify_items": null,
            "left": null,
            "margin": null,
            "max_height": null,
            "max_width": null,
            "min_height": null,
            "min_width": null,
            "object_fit": null,
            "object_position": null,
            "order": null,
            "overflow": null,
            "overflow_x": null,
            "overflow_y": null,
            "padding": null,
            "right": null,
            "top": null,
            "visibility": null,
            "width": null
          }
        },
        "f08c9d14892447c4b35bd19d1f43eecf": {
          "model_module": "@jupyter-widgets/base",
          "model_name": "LayoutModel",
          "model_module_version": "1.2.0",
          "state": {
            "_model_module": "@jupyter-widgets/base",
            "_model_module_version": "1.2.0",
            "_model_name": "LayoutModel",
            "_view_count": null,
            "_view_module": "@jupyter-widgets/base",
            "_view_module_version": "1.2.0",
            "_view_name": "LayoutView",
            "align_content": null,
            "align_items": null,
            "align_self": null,
            "border": null,
            "bottom": null,
            "display": null,
            "flex": null,
            "flex_flow": null,
            "grid_area": null,
            "grid_auto_columns": null,
            "grid_auto_flow": null,
            "grid_auto_rows": null,
            "grid_column": null,
            "grid_gap": null,
            "grid_row": null,
            "grid_template_areas": null,
            "grid_template_columns": null,
            "grid_template_rows": null,
            "height": null,
            "justify_content": null,
            "justify_items": null,
            "left": null,
            "margin": null,
            "max_height": null,
            "max_width": null,
            "min_height": null,
            "min_width": null,
            "object_fit": null,
            "object_position": null,
            "order": null,
            "overflow": null,
            "overflow_x": null,
            "overflow_y": null,
            "padding": null,
            "right": null,
            "top": null,
            "visibility": null,
            "width": null
          }
        },
        "1855cdbccd19432187ff3f6b92c83e14": {
          "model_module": "@jupyter-widgets/controls",
          "model_name": "DescriptionStyleModel",
          "model_module_version": "1.5.0",
          "state": {
            "_model_module": "@jupyter-widgets/controls",
            "_model_module_version": "1.5.0",
            "_model_name": "DescriptionStyleModel",
            "_view_count": null,
            "_view_module": "@jupyter-widgets/base",
            "_view_module_version": "1.2.0",
            "_view_name": "StyleView",
            "description_width": ""
          }
        },
        "082416048a7242ff9af41506d0fa02df": {
          "model_module": "@jupyter-widgets/base",
          "model_name": "LayoutModel",
          "model_module_version": "1.2.0",
          "state": {
            "_model_module": "@jupyter-widgets/base",
            "_model_module_version": "1.2.0",
            "_model_name": "LayoutModel",
            "_view_count": null,
            "_view_module": "@jupyter-widgets/base",
            "_view_module_version": "1.2.0",
            "_view_name": "LayoutView",
            "align_content": null,
            "align_items": null,
            "align_self": null,
            "border": null,
            "bottom": null,
            "display": null,
            "flex": null,
            "flex_flow": null,
            "grid_area": null,
            "grid_auto_columns": null,
            "grid_auto_flow": null,
            "grid_auto_rows": null,
            "grid_column": null,
            "grid_gap": null,
            "grid_row": null,
            "grid_template_areas": null,
            "grid_template_columns": null,
            "grid_template_rows": null,
            "height": null,
            "justify_content": null,
            "justify_items": null,
            "left": null,
            "margin": null,
            "max_height": null,
            "max_width": null,
            "min_height": null,
            "min_width": null,
            "object_fit": null,
            "object_position": null,
            "order": null,
            "overflow": null,
            "overflow_x": null,
            "overflow_y": null,
            "padding": null,
            "right": null,
            "top": null,
            "visibility": null,
            "width": null
          }
        },
        "c3f56bc377d444ab913a7d193a1caadf": {
          "model_module": "@jupyter-widgets/controls",
          "model_name": "ProgressStyleModel",
          "model_module_version": "1.5.0",
          "state": {
            "_model_module": "@jupyter-widgets/controls",
            "_model_module_version": "1.5.0",
            "_model_name": "ProgressStyleModel",
            "_view_count": null,
            "_view_module": "@jupyter-widgets/base",
            "_view_module_version": "1.2.0",
            "_view_name": "StyleView",
            "bar_color": null,
            "description_width": ""
          }
        },
        "66470a2f79b64620bab2130cde4d2309": {
          "model_module": "@jupyter-widgets/base",
          "model_name": "LayoutModel",
          "model_module_version": "1.2.0",
          "state": {
            "_model_module": "@jupyter-widgets/base",
            "_model_module_version": "1.2.0",
            "_model_name": "LayoutModel",
            "_view_count": null,
            "_view_module": "@jupyter-widgets/base",
            "_view_module_version": "1.2.0",
            "_view_name": "LayoutView",
            "align_content": null,
            "align_items": null,
            "align_self": null,
            "border": null,
            "bottom": null,
            "display": null,
            "flex": null,
            "flex_flow": null,
            "grid_area": null,
            "grid_auto_columns": null,
            "grid_auto_flow": null,
            "grid_auto_rows": null,
            "grid_column": null,
            "grid_gap": null,
            "grid_row": null,
            "grid_template_areas": null,
            "grid_template_columns": null,
            "grid_template_rows": null,
            "height": null,
            "justify_content": null,
            "justify_items": null,
            "left": null,
            "margin": null,
            "max_height": null,
            "max_width": null,
            "min_height": null,
            "min_width": null,
            "object_fit": null,
            "object_position": null,
            "order": null,
            "overflow": null,
            "overflow_x": null,
            "overflow_y": null,
            "padding": null,
            "right": null,
            "top": null,
            "visibility": null,
            "width": null
          }
        },
        "5dcc3ecf083f42869e58c555e9a2bf33": {
          "model_module": "@jupyter-widgets/controls",
          "model_name": "DescriptionStyleModel",
          "model_module_version": "1.5.0",
          "state": {
            "_model_module": "@jupyter-widgets/controls",
            "_model_module_version": "1.5.0",
            "_model_name": "DescriptionStyleModel",
            "_view_count": null,
            "_view_module": "@jupyter-widgets/base",
            "_view_module_version": "1.2.0",
            "_view_name": "StyleView",
            "description_width": ""
          }
        },
        "828e438d80464e51bb9dd33e4c928951": {
          "model_module": "@jupyter-widgets/controls",
          "model_name": "HBoxModel",
          "model_module_version": "1.5.0",
          "state": {
            "_dom_classes": [],
            "_model_module": "@jupyter-widgets/controls",
            "_model_module_version": "1.5.0",
            "_model_name": "HBoxModel",
            "_view_count": null,
            "_view_module": "@jupyter-widgets/controls",
            "_view_module_version": "1.5.0",
            "_view_name": "HBoxView",
            "box_style": "",
            "children": [
              "IPY_MODEL_4d78e0bbc71e4b278de2ff95a2cc106b",
              "IPY_MODEL_f9fe9c9078724688bffb4ee883d78015",
              "IPY_MODEL_4a604ad1dd2e4d4393343a49887ebc85"
            ],
            "layout": "IPY_MODEL_c33e987d9f6b46c0804b47335d1476c7"
          }
        },
        "4d78e0bbc71e4b278de2ff95a2cc106b": {
          "model_module": "@jupyter-widgets/controls",
          "model_name": "HTMLModel",
          "model_module_version": "1.5.0",
          "state": {
            "_dom_classes": [],
            "_model_module": "@jupyter-widgets/controls",
            "_model_module_version": "1.5.0",
            "_model_name": "HTMLModel",
            "_view_count": null,
            "_view_module": "@jupyter-widgets/controls",
            "_view_module_version": "1.5.0",
            "_view_name": "HTMLView",
            "description": "",
            "description_tooltip": null,
            "layout": "IPY_MODEL_21d7131ddc78494bb61c8d358a49e0fc",
            "placeholder": "​",
            "style": "IPY_MODEL_f49922d7c08d44829b2b6b1414354b58",
            "value": "tokenizer_config.json: 100%"
          }
        },
        "f9fe9c9078724688bffb4ee883d78015": {
          "model_module": "@jupyter-widgets/controls",
          "model_name": "FloatProgressModel",
          "model_module_version": "1.5.0",
          "state": {
            "_dom_classes": [],
            "_model_module": "@jupyter-widgets/controls",
            "_model_module_version": "1.5.0",
            "_model_name": "FloatProgressModel",
            "_view_count": null,
            "_view_module": "@jupyter-widgets/controls",
            "_view_module_version": "1.5.0",
            "_view_name": "ProgressView",
            "bar_style": "success",
            "description": "",
            "description_tooltip": null,
            "layout": "IPY_MODEL_39440c052db94f339d27e71c2bb37778",
            "max": 29,
            "min": 0,
            "orientation": "horizontal",
            "style": "IPY_MODEL_1144a7de3c1e40ddb0eb95f47cfca8b4",
            "value": 29
          }
        },
        "4a604ad1dd2e4d4393343a49887ebc85": {
          "model_module": "@jupyter-widgets/controls",
          "model_name": "HTMLModel",
          "model_module_version": "1.5.0",
          "state": {
            "_dom_classes": [],
            "_model_module": "@jupyter-widgets/controls",
            "_model_module_version": "1.5.0",
            "_model_name": "HTMLModel",
            "_view_count": null,
            "_view_module": "@jupyter-widgets/controls",
            "_view_module_version": "1.5.0",
            "_view_name": "HTMLView",
            "description": "",
            "description_tooltip": null,
            "layout": "IPY_MODEL_0d4cc1eafd524bcc8c1145ba773a60f4",
            "placeholder": "​",
            "style": "IPY_MODEL_6621a875dade420381c97b2a6d314153",
            "value": " 29.0/29.0 [00:00&lt;00:00, 2.34kB/s]"
          }
        },
        "c33e987d9f6b46c0804b47335d1476c7": {
          "model_module": "@jupyter-widgets/base",
          "model_name": "LayoutModel",
          "model_module_version": "1.2.0",
          "state": {
            "_model_module": "@jupyter-widgets/base",
            "_model_module_version": "1.2.0",
            "_model_name": "LayoutModel",
            "_view_count": null,
            "_view_module": "@jupyter-widgets/base",
            "_view_module_version": "1.2.0",
            "_view_name": "LayoutView",
            "align_content": null,
            "align_items": null,
            "align_self": null,
            "border": null,
            "bottom": null,
            "display": null,
            "flex": null,
            "flex_flow": null,
            "grid_area": null,
            "grid_auto_columns": null,
            "grid_auto_flow": null,
            "grid_auto_rows": null,
            "grid_column": null,
            "grid_gap": null,
            "grid_row": null,
            "grid_template_areas": null,
            "grid_template_columns": null,
            "grid_template_rows": null,
            "height": null,
            "justify_content": null,
            "justify_items": null,
            "left": null,
            "margin": null,
            "max_height": null,
            "max_width": null,
            "min_height": null,
            "min_width": null,
            "object_fit": null,
            "object_position": null,
            "order": null,
            "overflow": null,
            "overflow_x": null,
            "overflow_y": null,
            "padding": null,
            "right": null,
            "top": null,
            "visibility": null,
            "width": null
          }
        },
        "21d7131ddc78494bb61c8d358a49e0fc": {
          "model_module": "@jupyter-widgets/base",
          "model_name": "LayoutModel",
          "model_module_version": "1.2.0",
          "state": {
            "_model_module": "@jupyter-widgets/base",
            "_model_module_version": "1.2.0",
            "_model_name": "LayoutModel",
            "_view_count": null,
            "_view_module": "@jupyter-widgets/base",
            "_view_module_version": "1.2.0",
            "_view_name": "LayoutView",
            "align_content": null,
            "align_items": null,
            "align_self": null,
            "border": null,
            "bottom": null,
            "display": null,
            "flex": null,
            "flex_flow": null,
            "grid_area": null,
            "grid_auto_columns": null,
            "grid_auto_flow": null,
            "grid_auto_rows": null,
            "grid_column": null,
            "grid_gap": null,
            "grid_row": null,
            "grid_template_areas": null,
            "grid_template_columns": null,
            "grid_template_rows": null,
            "height": null,
            "justify_content": null,
            "justify_items": null,
            "left": null,
            "margin": null,
            "max_height": null,
            "max_width": null,
            "min_height": null,
            "min_width": null,
            "object_fit": null,
            "object_position": null,
            "order": null,
            "overflow": null,
            "overflow_x": null,
            "overflow_y": null,
            "padding": null,
            "right": null,
            "top": null,
            "visibility": null,
            "width": null
          }
        },
        "f49922d7c08d44829b2b6b1414354b58": {
          "model_module": "@jupyter-widgets/controls",
          "model_name": "DescriptionStyleModel",
          "model_module_version": "1.5.0",
          "state": {
            "_model_module": "@jupyter-widgets/controls",
            "_model_module_version": "1.5.0",
            "_model_name": "DescriptionStyleModel",
            "_view_count": null,
            "_view_module": "@jupyter-widgets/base",
            "_view_module_version": "1.2.0",
            "_view_name": "StyleView",
            "description_width": ""
          }
        },
        "39440c052db94f339d27e71c2bb37778": {
          "model_module": "@jupyter-widgets/base",
          "model_name": "LayoutModel",
          "model_module_version": "1.2.0",
          "state": {
            "_model_module": "@jupyter-widgets/base",
            "_model_module_version": "1.2.0",
            "_model_name": "LayoutModel",
            "_view_count": null,
            "_view_module": "@jupyter-widgets/base",
            "_view_module_version": "1.2.0",
            "_view_name": "LayoutView",
            "align_content": null,
            "align_items": null,
            "align_self": null,
            "border": null,
            "bottom": null,
            "display": null,
            "flex": null,
            "flex_flow": null,
            "grid_area": null,
            "grid_auto_columns": null,
            "grid_auto_flow": null,
            "grid_auto_rows": null,
            "grid_column": null,
            "grid_gap": null,
            "grid_row": null,
            "grid_template_areas": null,
            "grid_template_columns": null,
            "grid_template_rows": null,
            "height": null,
            "justify_content": null,
            "justify_items": null,
            "left": null,
            "margin": null,
            "max_height": null,
            "max_width": null,
            "min_height": null,
            "min_width": null,
            "object_fit": null,
            "object_position": null,
            "order": null,
            "overflow": null,
            "overflow_x": null,
            "overflow_y": null,
            "padding": null,
            "right": null,
            "top": null,
            "visibility": null,
            "width": null
          }
        },
        "1144a7de3c1e40ddb0eb95f47cfca8b4": {
          "model_module": "@jupyter-widgets/controls",
          "model_name": "ProgressStyleModel",
          "model_module_version": "1.5.0",
          "state": {
            "_model_module": "@jupyter-widgets/controls",
            "_model_module_version": "1.5.0",
            "_model_name": "ProgressStyleModel",
            "_view_count": null,
            "_view_module": "@jupyter-widgets/base",
            "_view_module_version": "1.2.0",
            "_view_name": "StyleView",
            "bar_color": null,
            "description_width": ""
          }
        },
        "0d4cc1eafd524bcc8c1145ba773a60f4": {
          "model_module": "@jupyter-widgets/base",
          "model_name": "LayoutModel",
          "model_module_version": "1.2.0",
          "state": {
            "_model_module": "@jupyter-widgets/base",
            "_model_module_version": "1.2.0",
            "_model_name": "LayoutModel",
            "_view_count": null,
            "_view_module": "@jupyter-widgets/base",
            "_view_module_version": "1.2.0",
            "_view_name": "LayoutView",
            "align_content": null,
            "align_items": null,
            "align_self": null,
            "border": null,
            "bottom": null,
            "display": null,
            "flex": null,
            "flex_flow": null,
            "grid_area": null,
            "grid_auto_columns": null,
            "grid_auto_flow": null,
            "grid_auto_rows": null,
            "grid_column": null,
            "grid_gap": null,
            "grid_row": null,
            "grid_template_areas": null,
            "grid_template_columns": null,
            "grid_template_rows": null,
            "height": null,
            "justify_content": null,
            "justify_items": null,
            "left": null,
            "margin": null,
            "max_height": null,
            "max_width": null,
            "min_height": null,
            "min_width": null,
            "object_fit": null,
            "object_position": null,
            "order": null,
            "overflow": null,
            "overflow_x": null,
            "overflow_y": null,
            "padding": null,
            "right": null,
            "top": null,
            "visibility": null,
            "width": null
          }
        },
        "6621a875dade420381c97b2a6d314153": {
          "model_module": "@jupyter-widgets/controls",
          "model_name": "DescriptionStyleModel",
          "model_module_version": "1.5.0",
          "state": {
            "_model_module": "@jupyter-widgets/controls",
            "_model_module_version": "1.5.0",
            "_model_name": "DescriptionStyleModel",
            "_view_count": null,
            "_view_module": "@jupyter-widgets/base",
            "_view_module_version": "1.2.0",
            "_view_name": "StyleView",
            "description_width": ""
          }
        },
        "30914d0d595745368296ea858f8bb2ef": {
          "model_module": "@jupyter-widgets/controls",
          "model_name": "HBoxModel",
          "model_module_version": "1.5.0",
          "state": {
            "_dom_classes": [],
            "_model_module": "@jupyter-widgets/controls",
            "_model_module_version": "1.5.0",
            "_model_name": "HBoxModel",
            "_view_count": null,
            "_view_module": "@jupyter-widgets/controls",
            "_view_module_version": "1.5.0",
            "_view_name": "HBoxView",
            "box_style": "",
            "children": [
              "IPY_MODEL_1c3cdbc6fe33424990d62baf9a02ab70",
              "IPY_MODEL_1bd7d74be7c64700a259503311fcc06a",
              "IPY_MODEL_dace4c021c524f14b989b068182227e1"
            ],
            "layout": "IPY_MODEL_1bab2ce865f14ed496371444736952e9"
          }
        },
        "1c3cdbc6fe33424990d62baf9a02ab70": {
          "model_module": "@jupyter-widgets/controls",
          "model_name": "HTMLModel",
          "model_module_version": "1.5.0",
          "state": {
            "_dom_classes": [],
            "_model_module": "@jupyter-widgets/controls",
            "_model_module_version": "1.5.0",
            "_model_name": "HTMLModel",
            "_view_count": null,
            "_view_module": "@jupyter-widgets/controls",
            "_view_module_version": "1.5.0",
            "_view_name": "HTMLView",
            "description": "",
            "description_tooltip": null,
            "layout": "IPY_MODEL_1161eb2744b74fdfa337364944e57a5d",
            "placeholder": "​",
            "style": "IPY_MODEL_33fa0745881e4bef81d43a54f78a1777",
            "value": "vocab.txt: 100%"
          }
        },
        "1bd7d74be7c64700a259503311fcc06a": {
          "model_module": "@jupyter-widgets/controls",
          "model_name": "FloatProgressModel",
          "model_module_version": "1.5.0",
          "state": {
            "_dom_classes": [],
            "_model_module": "@jupyter-widgets/controls",
            "_model_module_version": "1.5.0",
            "_model_name": "FloatProgressModel",
            "_view_count": null,
            "_view_module": "@jupyter-widgets/controls",
            "_view_module_version": "1.5.0",
            "_view_name": "ProgressView",
            "bar_style": "success",
            "description": "",
            "description_tooltip": null,
            "layout": "IPY_MODEL_e1244c695ae4459b80f421f948d28f25",
            "max": 995526,
            "min": 0,
            "orientation": "horizontal",
            "style": "IPY_MODEL_5febddcb7fe8410ab7ca123e4a04ddd2",
            "value": 995526
          }
        },
        "dace4c021c524f14b989b068182227e1": {
          "model_module": "@jupyter-widgets/controls",
          "model_name": "HTMLModel",
          "model_module_version": "1.5.0",
          "state": {
            "_dom_classes": [],
            "_model_module": "@jupyter-widgets/controls",
            "_model_module_version": "1.5.0",
            "_model_name": "HTMLModel",
            "_view_count": null,
            "_view_module": "@jupyter-widgets/controls",
            "_view_module_version": "1.5.0",
            "_view_name": "HTMLView",
            "description": "",
            "description_tooltip": null,
            "layout": "IPY_MODEL_6ac300e999f8479d862fc266e54d07ed",
            "placeholder": "​",
            "style": "IPY_MODEL_4ceb346c523d48fcbf76382a79914dcb",
            "value": " 996k/996k [00:00&lt;00:00, 11.9MB/s]"
          }
        },
        "1bab2ce865f14ed496371444736952e9": {
          "model_module": "@jupyter-widgets/base",
          "model_name": "LayoutModel",
          "model_module_version": "1.2.0",
          "state": {
            "_model_module": "@jupyter-widgets/base",
            "_model_module_version": "1.2.0",
            "_model_name": "LayoutModel",
            "_view_count": null,
            "_view_module": "@jupyter-widgets/base",
            "_view_module_version": "1.2.0",
            "_view_name": "LayoutView",
            "align_content": null,
            "align_items": null,
            "align_self": null,
            "border": null,
            "bottom": null,
            "display": null,
            "flex": null,
            "flex_flow": null,
            "grid_area": null,
            "grid_auto_columns": null,
            "grid_auto_flow": null,
            "grid_auto_rows": null,
            "grid_column": null,
            "grid_gap": null,
            "grid_row": null,
            "grid_template_areas": null,
            "grid_template_columns": null,
            "grid_template_rows": null,
            "height": null,
            "justify_content": null,
            "justify_items": null,
            "left": null,
            "margin": null,
            "max_height": null,
            "max_width": null,
            "min_height": null,
            "min_width": null,
            "object_fit": null,
            "object_position": null,
            "order": null,
            "overflow": null,
            "overflow_x": null,
            "overflow_y": null,
            "padding": null,
            "right": null,
            "top": null,
            "visibility": null,
            "width": null
          }
        },
        "1161eb2744b74fdfa337364944e57a5d": {
          "model_module": "@jupyter-widgets/base",
          "model_name": "LayoutModel",
          "model_module_version": "1.2.0",
          "state": {
            "_model_module": "@jupyter-widgets/base",
            "_model_module_version": "1.2.0",
            "_model_name": "LayoutModel",
            "_view_count": null,
            "_view_module": "@jupyter-widgets/base",
            "_view_module_version": "1.2.0",
            "_view_name": "LayoutView",
            "align_content": null,
            "align_items": null,
            "align_self": null,
            "border": null,
            "bottom": null,
            "display": null,
            "flex": null,
            "flex_flow": null,
            "grid_area": null,
            "grid_auto_columns": null,
            "grid_auto_flow": null,
            "grid_auto_rows": null,
            "grid_column": null,
            "grid_gap": null,
            "grid_row": null,
            "grid_template_areas": null,
            "grid_template_columns": null,
            "grid_template_rows": null,
            "height": null,
            "justify_content": null,
            "justify_items": null,
            "left": null,
            "margin": null,
            "max_height": null,
            "max_width": null,
            "min_height": null,
            "min_width": null,
            "object_fit": null,
            "object_position": null,
            "order": null,
            "overflow": null,
            "overflow_x": null,
            "overflow_y": null,
            "padding": null,
            "right": null,
            "top": null,
            "visibility": null,
            "width": null
          }
        },
        "33fa0745881e4bef81d43a54f78a1777": {
          "model_module": "@jupyter-widgets/controls",
          "model_name": "DescriptionStyleModel",
          "model_module_version": "1.5.0",
          "state": {
            "_model_module": "@jupyter-widgets/controls",
            "_model_module_version": "1.5.0",
            "_model_name": "DescriptionStyleModel",
            "_view_count": null,
            "_view_module": "@jupyter-widgets/base",
            "_view_module_version": "1.2.0",
            "_view_name": "StyleView",
            "description_width": ""
          }
        },
        "e1244c695ae4459b80f421f948d28f25": {
          "model_module": "@jupyter-widgets/base",
          "model_name": "LayoutModel",
          "model_module_version": "1.2.0",
          "state": {
            "_model_module": "@jupyter-widgets/base",
            "_model_module_version": "1.2.0",
            "_model_name": "LayoutModel",
            "_view_count": null,
            "_view_module": "@jupyter-widgets/base",
            "_view_module_version": "1.2.0",
            "_view_name": "LayoutView",
            "align_content": null,
            "align_items": null,
            "align_self": null,
            "border": null,
            "bottom": null,
            "display": null,
            "flex": null,
            "flex_flow": null,
            "grid_area": null,
            "grid_auto_columns": null,
            "grid_auto_flow": null,
            "grid_auto_rows": null,
            "grid_column": null,
            "grid_gap": null,
            "grid_row": null,
            "grid_template_areas": null,
            "grid_template_columns": null,
            "grid_template_rows": null,
            "height": null,
            "justify_content": null,
            "justify_items": null,
            "left": null,
            "margin": null,
            "max_height": null,
            "max_width": null,
            "min_height": null,
            "min_width": null,
            "object_fit": null,
            "object_position": null,
            "order": null,
            "overflow": null,
            "overflow_x": null,
            "overflow_y": null,
            "padding": null,
            "right": null,
            "top": null,
            "visibility": null,
            "width": null
          }
        },
        "5febddcb7fe8410ab7ca123e4a04ddd2": {
          "model_module": "@jupyter-widgets/controls",
          "model_name": "ProgressStyleModel",
          "model_module_version": "1.5.0",
          "state": {
            "_model_module": "@jupyter-widgets/controls",
            "_model_module_version": "1.5.0",
            "_model_name": "ProgressStyleModel",
            "_view_count": null,
            "_view_module": "@jupyter-widgets/base",
            "_view_module_version": "1.2.0",
            "_view_name": "StyleView",
            "bar_color": null,
            "description_width": ""
          }
        },
        "6ac300e999f8479d862fc266e54d07ed": {
          "model_module": "@jupyter-widgets/base",
          "model_name": "LayoutModel",
          "model_module_version": "1.2.0",
          "state": {
            "_model_module": "@jupyter-widgets/base",
            "_model_module_version": "1.2.0",
            "_model_name": "LayoutModel",
            "_view_count": null,
            "_view_module": "@jupyter-widgets/base",
            "_view_module_version": "1.2.0",
            "_view_name": "LayoutView",
            "align_content": null,
            "align_items": null,
            "align_self": null,
            "border": null,
            "bottom": null,
            "display": null,
            "flex": null,
            "flex_flow": null,
            "grid_area": null,
            "grid_auto_columns": null,
            "grid_auto_flow": null,
            "grid_auto_rows": null,
            "grid_column": null,
            "grid_gap": null,
            "grid_row": null,
            "grid_template_areas": null,
            "grid_template_columns": null,
            "grid_template_rows": null,
            "height": null,
            "justify_content": null,
            "justify_items": null,
            "left": null,
            "margin": null,
            "max_height": null,
            "max_width": null,
            "min_height": null,
            "min_width": null,
            "object_fit": null,
            "object_position": null,
            "order": null,
            "overflow": null,
            "overflow_x": null,
            "overflow_y": null,
            "padding": null,
            "right": null,
            "top": null,
            "visibility": null,
            "width": null
          }
        },
        "4ceb346c523d48fcbf76382a79914dcb": {
          "model_module": "@jupyter-widgets/controls",
          "model_name": "DescriptionStyleModel",
          "model_module_version": "1.5.0",
          "state": {
            "_model_module": "@jupyter-widgets/controls",
            "_model_module_version": "1.5.0",
            "_model_name": "DescriptionStyleModel",
            "_view_count": null,
            "_view_module": "@jupyter-widgets/base",
            "_view_module_version": "1.2.0",
            "_view_name": "StyleView",
            "description_width": ""
          }
        },
        "9d92d2f461b24fc9bce37f06699efbba": {
          "model_module": "@jupyter-widgets/controls",
          "model_name": "HBoxModel",
          "model_module_version": "1.5.0",
          "state": {
            "_dom_classes": [],
            "_model_module": "@jupyter-widgets/controls",
            "_model_module_version": "1.5.0",
            "_model_name": "HBoxModel",
            "_view_count": null,
            "_view_module": "@jupyter-widgets/controls",
            "_view_module_version": "1.5.0",
            "_view_name": "HBoxView",
            "box_style": "",
            "children": [
              "IPY_MODEL_2e4958fdbd764c5c95e72fed822d22ce",
              "IPY_MODEL_ce3e3777997a4b7d91a085255de22d3f",
              "IPY_MODEL_2211161c5ee244ad83433993f538e06b"
            ],
            "layout": "IPY_MODEL_5673a9555f80480ebb12f97bcef31f1c"
          }
        },
        "2e4958fdbd764c5c95e72fed822d22ce": {
          "model_module": "@jupyter-widgets/controls",
          "model_name": "HTMLModel",
          "model_module_version": "1.5.0",
          "state": {
            "_dom_classes": [],
            "_model_module": "@jupyter-widgets/controls",
            "_model_module_version": "1.5.0",
            "_model_name": "HTMLModel",
            "_view_count": null,
            "_view_module": "@jupyter-widgets/controls",
            "_view_module_version": "1.5.0",
            "_view_name": "HTMLView",
            "description": "",
            "description_tooltip": null,
            "layout": "IPY_MODEL_42660d6fc2e043dab18fa2274c011388",
            "placeholder": "​",
            "style": "IPY_MODEL_a619206d5eac43b09a2928ca9507057a",
            "value": "tokenizer.json: 100%"
          }
        },
        "ce3e3777997a4b7d91a085255de22d3f": {
          "model_module": "@jupyter-widgets/controls",
          "model_name": "FloatProgressModel",
          "model_module_version": "1.5.0",
          "state": {
            "_dom_classes": [],
            "_model_module": "@jupyter-widgets/controls",
            "_model_module_version": "1.5.0",
            "_model_name": "FloatProgressModel",
            "_view_count": null,
            "_view_module": "@jupyter-widgets/controls",
            "_view_module_version": "1.5.0",
            "_view_name": "ProgressView",
            "bar_style": "success",
            "description": "",
            "description_tooltip": null,
            "layout": "IPY_MODEL_7d963a38896a43568041f69599382575",
            "max": 1961828,
            "min": 0,
            "orientation": "horizontal",
            "style": "IPY_MODEL_f4ab807eb50944db8adbd9ad372cc83c",
            "value": 1961828
          }
        },
        "2211161c5ee244ad83433993f538e06b": {
          "model_module": "@jupyter-widgets/controls",
          "model_name": "HTMLModel",
          "model_module_version": "1.5.0",
          "state": {
            "_dom_classes": [],
            "_model_module": "@jupyter-widgets/controls",
            "_model_module_version": "1.5.0",
            "_model_name": "HTMLModel",
            "_view_count": null,
            "_view_module": "@jupyter-widgets/controls",
            "_view_module_version": "1.5.0",
            "_view_name": "HTMLView",
            "description": "",
            "description_tooltip": null,
            "layout": "IPY_MODEL_1fcf4a83f5c94e6d87923f890fdf9124",
            "placeholder": "​",
            "style": "IPY_MODEL_0657bdf2553b46e4805e72ce67283e75",
            "value": " 1.96M/1.96M [00:00&lt;00:00, 42.3MB/s]"
          }
        },
        "5673a9555f80480ebb12f97bcef31f1c": {
          "model_module": "@jupyter-widgets/base",
          "model_name": "LayoutModel",
          "model_module_version": "1.2.0",
          "state": {
            "_model_module": "@jupyter-widgets/base",
            "_model_module_version": "1.2.0",
            "_model_name": "LayoutModel",
            "_view_count": null,
            "_view_module": "@jupyter-widgets/base",
            "_view_module_version": "1.2.0",
            "_view_name": "LayoutView",
            "align_content": null,
            "align_items": null,
            "align_self": null,
            "border": null,
            "bottom": null,
            "display": null,
            "flex": null,
            "flex_flow": null,
            "grid_area": null,
            "grid_auto_columns": null,
            "grid_auto_flow": null,
            "grid_auto_rows": null,
            "grid_column": null,
            "grid_gap": null,
            "grid_row": null,
            "grid_template_areas": null,
            "grid_template_columns": null,
            "grid_template_rows": null,
            "height": null,
            "justify_content": null,
            "justify_items": null,
            "left": null,
            "margin": null,
            "max_height": null,
            "max_width": null,
            "min_height": null,
            "min_width": null,
            "object_fit": null,
            "object_position": null,
            "order": null,
            "overflow": null,
            "overflow_x": null,
            "overflow_y": null,
            "padding": null,
            "right": null,
            "top": null,
            "visibility": null,
            "width": null
          }
        },
        "42660d6fc2e043dab18fa2274c011388": {
          "model_module": "@jupyter-widgets/base",
          "model_name": "LayoutModel",
          "model_module_version": "1.2.0",
          "state": {
            "_model_module": "@jupyter-widgets/base",
            "_model_module_version": "1.2.0",
            "_model_name": "LayoutModel",
            "_view_count": null,
            "_view_module": "@jupyter-widgets/base",
            "_view_module_version": "1.2.0",
            "_view_name": "LayoutView",
            "align_content": null,
            "align_items": null,
            "align_self": null,
            "border": null,
            "bottom": null,
            "display": null,
            "flex": null,
            "flex_flow": null,
            "grid_area": null,
            "grid_auto_columns": null,
            "grid_auto_flow": null,
            "grid_auto_rows": null,
            "grid_column": null,
            "grid_gap": null,
            "grid_row": null,
            "grid_template_areas": null,
            "grid_template_columns": null,
            "grid_template_rows": null,
            "height": null,
            "justify_content": null,
            "justify_items": null,
            "left": null,
            "margin": null,
            "max_height": null,
            "max_width": null,
            "min_height": null,
            "min_width": null,
            "object_fit": null,
            "object_position": null,
            "order": null,
            "overflow": null,
            "overflow_x": null,
            "overflow_y": null,
            "padding": null,
            "right": null,
            "top": null,
            "visibility": null,
            "width": null
          }
        },
        "a619206d5eac43b09a2928ca9507057a": {
          "model_module": "@jupyter-widgets/controls",
          "model_name": "DescriptionStyleModel",
          "model_module_version": "1.5.0",
          "state": {
            "_model_module": "@jupyter-widgets/controls",
            "_model_module_version": "1.5.0",
            "_model_name": "DescriptionStyleModel",
            "_view_count": null,
            "_view_module": "@jupyter-widgets/base",
            "_view_module_version": "1.2.0",
            "_view_name": "StyleView",
            "description_width": ""
          }
        },
        "7d963a38896a43568041f69599382575": {
          "model_module": "@jupyter-widgets/base",
          "model_name": "LayoutModel",
          "model_module_version": "1.2.0",
          "state": {
            "_model_module": "@jupyter-widgets/base",
            "_model_module_version": "1.2.0",
            "_model_name": "LayoutModel",
            "_view_count": null,
            "_view_module": "@jupyter-widgets/base",
            "_view_module_version": "1.2.0",
            "_view_name": "LayoutView",
            "align_content": null,
            "align_items": null,
            "align_self": null,
            "border": null,
            "bottom": null,
            "display": null,
            "flex": null,
            "flex_flow": null,
            "grid_area": null,
            "grid_auto_columns": null,
            "grid_auto_flow": null,
            "grid_auto_rows": null,
            "grid_column": null,
            "grid_gap": null,
            "grid_row": null,
            "grid_template_areas": null,
            "grid_template_columns": null,
            "grid_template_rows": null,
            "height": null,
            "justify_content": null,
            "justify_items": null,
            "left": null,
            "margin": null,
            "max_height": null,
            "max_width": null,
            "min_height": null,
            "min_width": null,
            "object_fit": null,
            "object_position": null,
            "order": null,
            "overflow": null,
            "overflow_x": null,
            "overflow_y": null,
            "padding": null,
            "right": null,
            "top": null,
            "visibility": null,
            "width": null
          }
        },
        "f4ab807eb50944db8adbd9ad372cc83c": {
          "model_module": "@jupyter-widgets/controls",
          "model_name": "ProgressStyleModel",
          "model_module_version": "1.5.0",
          "state": {
            "_model_module": "@jupyter-widgets/controls",
            "_model_module_version": "1.5.0",
            "_model_name": "ProgressStyleModel",
            "_view_count": null,
            "_view_module": "@jupyter-widgets/base",
            "_view_module_version": "1.2.0",
            "_view_name": "StyleView",
            "bar_color": null,
            "description_width": ""
          }
        },
        "1fcf4a83f5c94e6d87923f890fdf9124": {
          "model_module": "@jupyter-widgets/base",
          "model_name": "LayoutModel",
          "model_module_version": "1.2.0",
          "state": {
            "_model_module": "@jupyter-widgets/base",
            "_model_module_version": "1.2.0",
            "_model_name": "LayoutModel",
            "_view_count": null,
            "_view_module": "@jupyter-widgets/base",
            "_view_module_version": "1.2.0",
            "_view_name": "LayoutView",
            "align_content": null,
            "align_items": null,
            "align_self": null,
            "border": null,
            "bottom": null,
            "display": null,
            "flex": null,
            "flex_flow": null,
            "grid_area": null,
            "grid_auto_columns": null,
            "grid_auto_flow": null,
            "grid_auto_rows": null,
            "grid_column": null,
            "grid_gap": null,
            "grid_row": null,
            "grid_template_areas": null,
            "grid_template_columns": null,
            "grid_template_rows": null,
            "height": null,
            "justify_content": null,
            "justify_items": null,
            "left": null,
            "margin": null,
            "max_height": null,
            "max_width": null,
            "min_height": null,
            "min_width": null,
            "object_fit": null,
            "object_position": null,
            "order": null,
            "overflow": null,
            "overflow_x": null,
            "overflow_y": null,
            "padding": null,
            "right": null,
            "top": null,
            "visibility": null,
            "width": null
          }
        },
        "0657bdf2553b46e4805e72ce67283e75": {
          "model_module": "@jupyter-widgets/controls",
          "model_name": "DescriptionStyleModel",
          "model_module_version": "1.5.0",
          "state": {
            "_model_module": "@jupyter-widgets/controls",
            "_model_module_version": "1.5.0",
            "_model_name": "DescriptionStyleModel",
            "_view_count": null,
            "_view_module": "@jupyter-widgets/base",
            "_view_module_version": "1.2.0",
            "_view_name": "StyleView",
            "description_width": ""
          }
        },
        "1dde9d2985e640de9509ad4f8ee2882f": {
          "model_module": "@jupyter-widgets/controls",
          "model_name": "HBoxModel",
          "model_module_version": "1.5.0",
          "state": {
            "_dom_classes": [],
            "_model_module": "@jupyter-widgets/controls",
            "_model_module_version": "1.5.0",
            "_model_name": "HBoxModel",
            "_view_count": null,
            "_view_module": "@jupyter-widgets/controls",
            "_view_module_version": "1.5.0",
            "_view_name": "HBoxView",
            "box_style": "",
            "children": [
              "IPY_MODEL_f75a4064c63847ad83cef8680c083a84",
              "IPY_MODEL_43d6ee3558ef438b8b422be6782cc93c",
              "IPY_MODEL_0e270cbb169048ac961562ec705db74b"
            ],
            "layout": "IPY_MODEL_d237712e3d3549aca12ed813ab2940f2"
          }
        },
        "f75a4064c63847ad83cef8680c083a84": {
          "model_module": "@jupyter-widgets/controls",
          "model_name": "HTMLModel",
          "model_module_version": "1.5.0",
          "state": {
            "_dom_classes": [],
            "_model_module": "@jupyter-widgets/controls",
            "_model_module_version": "1.5.0",
            "_model_name": "HTMLModel",
            "_view_count": null,
            "_view_module": "@jupyter-widgets/controls",
            "_view_module_version": "1.5.0",
            "_view_name": "HTMLView",
            "description": "",
            "description_tooltip": null,
            "layout": "IPY_MODEL_6c95489d899a4481bd7c9d42817f2f3f",
            "placeholder": "​",
            "style": "IPY_MODEL_8132dbd16abd4f9ca557c4ab200e0de0",
            "value": "config.json: 100%"
          }
        },
        "43d6ee3558ef438b8b422be6782cc93c": {
          "model_module": "@jupyter-widgets/controls",
          "model_name": "FloatProgressModel",
          "model_module_version": "1.5.0",
          "state": {
            "_dom_classes": [],
            "_model_module": "@jupyter-widgets/controls",
            "_model_module_version": "1.5.0",
            "_model_name": "FloatProgressModel",
            "_view_count": null,
            "_view_module": "@jupyter-widgets/controls",
            "_view_module_version": "1.5.0",
            "_view_name": "ProgressView",
            "bar_style": "success",
            "description": "",
            "description_tooltip": null,
            "layout": "IPY_MODEL_8a140830f84e42768d03e9e30239a549",
            "max": 625,
            "min": 0,
            "orientation": "horizontal",
            "style": "IPY_MODEL_9e3eaae1ddfb4b3bbbf9480ab3b431f1",
            "value": 625
          }
        },
        "0e270cbb169048ac961562ec705db74b": {
          "model_module": "@jupyter-widgets/controls",
          "model_name": "HTMLModel",
          "model_module_version": "1.5.0",
          "state": {
            "_dom_classes": [],
            "_model_module": "@jupyter-widgets/controls",
            "_model_module_version": "1.5.0",
            "_model_name": "HTMLModel",
            "_view_count": null,
            "_view_module": "@jupyter-widgets/controls",
            "_view_module_version": "1.5.0",
            "_view_name": "HTMLView",
            "description": "",
            "description_tooltip": null,
            "layout": "IPY_MODEL_61f4596a618940aaa72a503d2e2813cb",
            "placeholder": "​",
            "style": "IPY_MODEL_a152bddb7a9b443fa9e8401fd16f7c42",
            "value": " 625/625 [00:00&lt;00:00, 51.0kB/s]"
          }
        },
        "d237712e3d3549aca12ed813ab2940f2": {
          "model_module": "@jupyter-widgets/base",
          "model_name": "LayoutModel",
          "model_module_version": "1.2.0",
          "state": {
            "_model_module": "@jupyter-widgets/base",
            "_model_module_version": "1.2.0",
            "_model_name": "LayoutModel",
            "_view_count": null,
            "_view_module": "@jupyter-widgets/base",
            "_view_module_version": "1.2.0",
            "_view_name": "LayoutView",
            "align_content": null,
            "align_items": null,
            "align_self": null,
            "border": null,
            "bottom": null,
            "display": null,
            "flex": null,
            "flex_flow": null,
            "grid_area": null,
            "grid_auto_columns": null,
            "grid_auto_flow": null,
            "grid_auto_rows": null,
            "grid_column": null,
            "grid_gap": null,
            "grid_row": null,
            "grid_template_areas": null,
            "grid_template_columns": null,
            "grid_template_rows": null,
            "height": null,
            "justify_content": null,
            "justify_items": null,
            "left": null,
            "margin": null,
            "max_height": null,
            "max_width": null,
            "min_height": null,
            "min_width": null,
            "object_fit": null,
            "object_position": null,
            "order": null,
            "overflow": null,
            "overflow_x": null,
            "overflow_y": null,
            "padding": null,
            "right": null,
            "top": null,
            "visibility": null,
            "width": null
          }
        },
        "6c95489d899a4481bd7c9d42817f2f3f": {
          "model_module": "@jupyter-widgets/base",
          "model_name": "LayoutModel",
          "model_module_version": "1.2.0",
          "state": {
            "_model_module": "@jupyter-widgets/base",
            "_model_module_version": "1.2.0",
            "_model_name": "LayoutModel",
            "_view_count": null,
            "_view_module": "@jupyter-widgets/base",
            "_view_module_version": "1.2.0",
            "_view_name": "LayoutView",
            "align_content": null,
            "align_items": null,
            "align_self": null,
            "border": null,
            "bottom": null,
            "display": null,
            "flex": null,
            "flex_flow": null,
            "grid_area": null,
            "grid_auto_columns": null,
            "grid_auto_flow": null,
            "grid_auto_rows": null,
            "grid_column": null,
            "grid_gap": null,
            "grid_row": null,
            "grid_template_areas": null,
            "grid_template_columns": null,
            "grid_template_rows": null,
            "height": null,
            "justify_content": null,
            "justify_items": null,
            "left": null,
            "margin": null,
            "max_height": null,
            "max_width": null,
            "min_height": null,
            "min_width": null,
            "object_fit": null,
            "object_position": null,
            "order": null,
            "overflow": null,
            "overflow_x": null,
            "overflow_y": null,
            "padding": null,
            "right": null,
            "top": null,
            "visibility": null,
            "width": null
          }
        },
        "8132dbd16abd4f9ca557c4ab200e0de0": {
          "model_module": "@jupyter-widgets/controls",
          "model_name": "DescriptionStyleModel",
          "model_module_version": "1.5.0",
          "state": {
            "_model_module": "@jupyter-widgets/controls",
            "_model_module_version": "1.5.0",
            "_model_name": "DescriptionStyleModel",
            "_view_count": null,
            "_view_module": "@jupyter-widgets/base",
            "_view_module_version": "1.2.0",
            "_view_name": "StyleView",
            "description_width": ""
          }
        },
        "8a140830f84e42768d03e9e30239a549": {
          "model_module": "@jupyter-widgets/base",
          "model_name": "LayoutModel",
          "model_module_version": "1.2.0",
          "state": {
            "_model_module": "@jupyter-widgets/base",
            "_model_module_version": "1.2.0",
            "_model_name": "LayoutModel",
            "_view_count": null,
            "_view_module": "@jupyter-widgets/base",
            "_view_module_version": "1.2.0",
            "_view_name": "LayoutView",
            "align_content": null,
            "align_items": null,
            "align_self": null,
            "border": null,
            "bottom": null,
            "display": null,
            "flex": null,
            "flex_flow": null,
            "grid_area": null,
            "grid_auto_columns": null,
            "grid_auto_flow": null,
            "grid_auto_rows": null,
            "grid_column": null,
            "grid_gap": null,
            "grid_row": null,
            "grid_template_areas": null,
            "grid_template_columns": null,
            "grid_template_rows": null,
            "height": null,
            "justify_content": null,
            "justify_items": null,
            "left": null,
            "margin": null,
            "max_height": null,
            "max_width": null,
            "min_height": null,
            "min_width": null,
            "object_fit": null,
            "object_position": null,
            "order": null,
            "overflow": null,
            "overflow_x": null,
            "overflow_y": null,
            "padding": null,
            "right": null,
            "top": null,
            "visibility": null,
            "width": null
          }
        },
        "9e3eaae1ddfb4b3bbbf9480ab3b431f1": {
          "model_module": "@jupyter-widgets/controls",
          "model_name": "ProgressStyleModel",
          "model_module_version": "1.5.0",
          "state": {
            "_model_module": "@jupyter-widgets/controls",
            "_model_module_version": "1.5.0",
            "_model_name": "ProgressStyleModel",
            "_view_count": null,
            "_view_module": "@jupyter-widgets/base",
            "_view_module_version": "1.2.0",
            "_view_name": "StyleView",
            "bar_color": null,
            "description_width": ""
          }
        },
        "61f4596a618940aaa72a503d2e2813cb": {
          "model_module": "@jupyter-widgets/base",
          "model_name": "LayoutModel",
          "model_module_version": "1.2.0",
          "state": {
            "_model_module": "@jupyter-widgets/base",
            "_model_module_version": "1.2.0",
            "_model_name": "LayoutModel",
            "_view_count": null,
            "_view_module": "@jupyter-widgets/base",
            "_view_module_version": "1.2.0",
            "_view_name": "LayoutView",
            "align_content": null,
            "align_items": null,
            "align_self": null,
            "border": null,
            "bottom": null,
            "display": null,
            "flex": null,
            "flex_flow": null,
            "grid_area": null,
            "grid_auto_columns": null,
            "grid_auto_flow": null,
            "grid_auto_rows": null,
            "grid_column": null,
            "grid_gap": null,
            "grid_row": null,
            "grid_template_areas": null,
            "grid_template_columns": null,
            "grid_template_rows": null,
            "height": null,
            "justify_content": null,
            "justify_items": null,
            "left": null,
            "margin": null,
            "max_height": null,
            "max_width": null,
            "min_height": null,
            "min_width": null,
            "object_fit": null,
            "object_position": null,
            "order": null,
            "overflow": null,
            "overflow_x": null,
            "overflow_y": null,
            "padding": null,
            "right": null,
            "top": null,
            "visibility": null,
            "width": null
          }
        },
        "a152bddb7a9b443fa9e8401fd16f7c42": {
          "model_module": "@jupyter-widgets/controls",
          "model_name": "DescriptionStyleModel",
          "model_module_version": "1.5.0",
          "state": {
            "_model_module": "@jupyter-widgets/controls",
            "_model_module_version": "1.5.0",
            "_model_name": "DescriptionStyleModel",
            "_view_count": null,
            "_view_module": "@jupyter-widgets/base",
            "_view_module_version": "1.2.0",
            "_view_name": "StyleView",
            "description_width": ""
          }
        },
        "dbe3dbcad42f4822942cad1221f85183": {
          "model_module": "@jupyter-widgets/controls",
          "model_name": "HBoxModel",
          "model_module_version": "1.5.0",
          "state": {
            "_dom_classes": [],
            "_model_module": "@jupyter-widgets/controls",
            "_model_module_version": "1.5.0",
            "_model_name": "HBoxModel",
            "_view_count": null,
            "_view_module": "@jupyter-widgets/controls",
            "_view_module_version": "1.5.0",
            "_view_name": "HBoxView",
            "box_style": "",
            "children": [
              "IPY_MODEL_002d54c233bd4100b038180ea174067a",
              "IPY_MODEL_1b6c4802bb35459ea3b91f7c5b7ece56",
              "IPY_MODEL_81a4e889be924143b92f925f19c2293e"
            ],
            "layout": "IPY_MODEL_65468f88620b460d8a3bdbdb7dbf471b"
          }
        },
        "002d54c233bd4100b038180ea174067a": {
          "model_module": "@jupyter-widgets/controls",
          "model_name": "HTMLModel",
          "model_module_version": "1.5.0",
          "state": {
            "_dom_classes": [],
            "_model_module": "@jupyter-widgets/controls",
            "_model_module_version": "1.5.0",
            "_model_name": "HTMLModel",
            "_view_count": null,
            "_view_module": "@jupyter-widgets/controls",
            "_view_module_version": "1.5.0",
            "_view_name": "HTMLView",
            "description": "",
            "description_tooltip": null,
            "layout": "IPY_MODEL_29ff060bd5fb427a97a0d88b91497191",
            "placeholder": "​",
            "style": "IPY_MODEL_7adc4c7f97f44d4b81d5a870edd72096",
            "value": "coarse_2.pt: 100%"
          }
        },
        "1b6c4802bb35459ea3b91f7c5b7ece56": {
          "model_module": "@jupyter-widgets/controls",
          "model_name": "FloatProgressModel",
          "model_module_version": "1.5.0",
          "state": {
            "_dom_classes": [],
            "_model_module": "@jupyter-widgets/controls",
            "_model_module_version": "1.5.0",
            "_model_name": "FloatProgressModel",
            "_view_count": null,
            "_view_module": "@jupyter-widgets/controls",
            "_view_module_version": "1.5.0",
            "_view_name": "ProgressView",
            "bar_style": "success",
            "description": "",
            "description_tooltip": null,
            "layout": "IPY_MODEL_3f6442b890e84861aa02a9905276fd1c",
            "max": 3934534533,
            "min": 0,
            "orientation": "horizontal",
            "style": "IPY_MODEL_aacb92eafe564e0598d1470de15bc657",
            "value": 3934534533
          }
        },
        "81a4e889be924143b92f925f19c2293e": {
          "model_module": "@jupyter-widgets/controls",
          "model_name": "HTMLModel",
          "model_module_version": "1.5.0",
          "state": {
            "_dom_classes": [],
            "_model_module": "@jupyter-widgets/controls",
            "_model_module_version": "1.5.0",
            "_model_name": "HTMLModel",
            "_view_count": null,
            "_view_module": "@jupyter-widgets/controls",
            "_view_module_version": "1.5.0",
            "_view_name": "HTMLView",
            "description": "",
            "description_tooltip": null,
            "layout": "IPY_MODEL_05499adc06cf4f2eb85c937122288908",
            "placeholder": "​",
            "style": "IPY_MODEL_d6bf821073df4865b49de22de738e0a3",
            "value": " 3.93G/3.93G [00:15&lt;00:00, 283MB/s]"
          }
        },
        "65468f88620b460d8a3bdbdb7dbf471b": {
          "model_module": "@jupyter-widgets/base",
          "model_name": "LayoutModel",
          "model_module_version": "1.2.0",
          "state": {
            "_model_module": "@jupyter-widgets/base",
            "_model_module_version": "1.2.0",
            "_model_name": "LayoutModel",
            "_view_count": null,
            "_view_module": "@jupyter-widgets/base",
            "_view_module_version": "1.2.0",
            "_view_name": "LayoutView",
            "align_content": null,
            "align_items": null,
            "align_self": null,
            "border": null,
            "bottom": null,
            "display": null,
            "flex": null,
            "flex_flow": null,
            "grid_area": null,
            "grid_auto_columns": null,
            "grid_auto_flow": null,
            "grid_auto_rows": null,
            "grid_column": null,
            "grid_gap": null,
            "grid_row": null,
            "grid_template_areas": null,
            "grid_template_columns": null,
            "grid_template_rows": null,
            "height": null,
            "justify_content": null,
            "justify_items": null,
            "left": null,
            "margin": null,
            "max_height": null,
            "max_width": null,
            "min_height": null,
            "min_width": null,
            "object_fit": null,
            "object_position": null,
            "order": null,
            "overflow": null,
            "overflow_x": null,
            "overflow_y": null,
            "padding": null,
            "right": null,
            "top": null,
            "visibility": null,
            "width": null
          }
        },
        "29ff060bd5fb427a97a0d88b91497191": {
          "model_module": "@jupyter-widgets/base",
          "model_name": "LayoutModel",
          "model_module_version": "1.2.0",
          "state": {
            "_model_module": "@jupyter-widgets/base",
            "_model_module_version": "1.2.0",
            "_model_name": "LayoutModel",
            "_view_count": null,
            "_view_module": "@jupyter-widgets/base",
            "_view_module_version": "1.2.0",
            "_view_name": "LayoutView",
            "align_content": null,
            "align_items": null,
            "align_self": null,
            "border": null,
            "bottom": null,
            "display": null,
            "flex": null,
            "flex_flow": null,
            "grid_area": null,
            "grid_auto_columns": null,
            "grid_auto_flow": null,
            "grid_auto_rows": null,
            "grid_column": null,
            "grid_gap": null,
            "grid_row": null,
            "grid_template_areas": null,
            "grid_template_columns": null,
            "grid_template_rows": null,
            "height": null,
            "justify_content": null,
            "justify_items": null,
            "left": null,
            "margin": null,
            "max_height": null,
            "max_width": null,
            "min_height": null,
            "min_width": null,
            "object_fit": null,
            "object_position": null,
            "order": null,
            "overflow": null,
            "overflow_x": null,
            "overflow_y": null,
            "padding": null,
            "right": null,
            "top": null,
            "visibility": null,
            "width": null
          }
        },
        "7adc4c7f97f44d4b81d5a870edd72096": {
          "model_module": "@jupyter-widgets/controls",
          "model_name": "DescriptionStyleModel",
          "model_module_version": "1.5.0",
          "state": {
            "_model_module": "@jupyter-widgets/controls",
            "_model_module_version": "1.5.0",
            "_model_name": "DescriptionStyleModel",
            "_view_count": null,
            "_view_module": "@jupyter-widgets/base",
            "_view_module_version": "1.2.0",
            "_view_name": "StyleView",
            "description_width": ""
          }
        },
        "3f6442b890e84861aa02a9905276fd1c": {
          "model_module": "@jupyter-widgets/base",
          "model_name": "LayoutModel",
          "model_module_version": "1.2.0",
          "state": {
            "_model_module": "@jupyter-widgets/base",
            "_model_module_version": "1.2.0",
            "_model_name": "LayoutModel",
            "_view_count": null,
            "_view_module": "@jupyter-widgets/base",
            "_view_module_version": "1.2.0",
            "_view_name": "LayoutView",
            "align_content": null,
            "align_items": null,
            "align_self": null,
            "border": null,
            "bottom": null,
            "display": null,
            "flex": null,
            "flex_flow": null,
            "grid_area": null,
            "grid_auto_columns": null,
            "grid_auto_flow": null,
            "grid_auto_rows": null,
            "grid_column": null,
            "grid_gap": null,
            "grid_row": null,
            "grid_template_areas": null,
            "grid_template_columns": null,
            "grid_template_rows": null,
            "height": null,
            "justify_content": null,
            "justify_items": null,
            "left": null,
            "margin": null,
            "max_height": null,
            "max_width": null,
            "min_height": null,
            "min_width": null,
            "object_fit": null,
            "object_position": null,
            "order": null,
            "overflow": null,
            "overflow_x": null,
            "overflow_y": null,
            "padding": null,
            "right": null,
            "top": null,
            "visibility": null,
            "width": null
          }
        },
        "aacb92eafe564e0598d1470de15bc657": {
          "model_module": "@jupyter-widgets/controls",
          "model_name": "ProgressStyleModel",
          "model_module_version": "1.5.0",
          "state": {
            "_model_module": "@jupyter-widgets/controls",
            "_model_module_version": "1.5.0",
            "_model_name": "ProgressStyleModel",
            "_view_count": null,
            "_view_module": "@jupyter-widgets/base",
            "_view_module_version": "1.2.0",
            "_view_name": "StyleView",
            "bar_color": null,
            "description_width": ""
          }
        },
        "05499adc06cf4f2eb85c937122288908": {
          "model_module": "@jupyter-widgets/base",
          "model_name": "LayoutModel",
          "model_module_version": "1.2.0",
          "state": {
            "_model_module": "@jupyter-widgets/base",
            "_model_module_version": "1.2.0",
            "_model_name": "LayoutModel",
            "_view_count": null,
            "_view_module": "@jupyter-widgets/base",
            "_view_module_version": "1.2.0",
            "_view_name": "LayoutView",
            "align_content": null,
            "align_items": null,
            "align_self": null,
            "border": null,
            "bottom": null,
            "display": null,
            "flex": null,
            "flex_flow": null,
            "grid_area": null,
            "grid_auto_columns": null,
            "grid_auto_flow": null,
            "grid_auto_rows": null,
            "grid_column": null,
            "grid_gap": null,
            "grid_row": null,
            "grid_template_areas": null,
            "grid_template_columns": null,
            "grid_template_rows": null,
            "height": null,
            "justify_content": null,
            "justify_items": null,
            "left": null,
            "margin": null,
            "max_height": null,
            "max_width": null,
            "min_height": null,
            "min_width": null,
            "object_fit": null,
            "object_position": null,
            "order": null,
            "overflow": null,
            "overflow_x": null,
            "overflow_y": null,
            "padding": null,
            "right": null,
            "top": null,
            "visibility": null,
            "width": null
          }
        },
        "d6bf821073df4865b49de22de738e0a3": {
          "model_module": "@jupyter-widgets/controls",
          "model_name": "DescriptionStyleModel",
          "model_module_version": "1.5.0",
          "state": {
            "_model_module": "@jupyter-widgets/controls",
            "_model_module_version": "1.5.0",
            "_model_name": "DescriptionStyleModel",
            "_view_count": null,
            "_view_module": "@jupyter-widgets/base",
            "_view_module_version": "1.2.0",
            "_view_name": "StyleView",
            "description_width": ""
          }
        },
        "3f11c9e0e5c54df9b78ee64213f84a3e": {
          "model_module": "@jupyter-widgets/controls",
          "model_name": "HBoxModel",
          "model_module_version": "1.5.0",
          "state": {
            "_dom_classes": [],
            "_model_module": "@jupyter-widgets/controls",
            "_model_module_version": "1.5.0",
            "_model_name": "HBoxModel",
            "_view_count": null,
            "_view_module": "@jupyter-widgets/controls",
            "_view_module_version": "1.5.0",
            "_view_name": "HBoxView",
            "box_style": "",
            "children": [
              "IPY_MODEL_7326859e251945b9bf688474f24a4122",
              "IPY_MODEL_ba5e4568dcc1463ab4c6fe474c7b7bbb",
              "IPY_MODEL_5b1455813454496eb5175f09b1cb5fb8"
            ],
            "layout": "IPY_MODEL_66f72540184b4454967be6b52c9bb4c3"
          }
        },
        "7326859e251945b9bf688474f24a4122": {
          "model_module": "@jupyter-widgets/controls",
          "model_name": "HTMLModel",
          "model_module_version": "1.5.0",
          "state": {
            "_dom_classes": [],
            "_model_module": "@jupyter-widgets/controls",
            "_model_module_version": "1.5.0",
            "_model_name": "HTMLModel",
            "_view_count": null,
            "_view_module": "@jupyter-widgets/controls",
            "_view_module_version": "1.5.0",
            "_view_name": "HTMLView",
            "description": "",
            "description_tooltip": null,
            "layout": "IPY_MODEL_e7f234cc7ee5461a86afd20b9ccf5486",
            "placeholder": "​",
            "style": "IPY_MODEL_87cd78a397c548f296d1317060161014",
            "value": "fine_2.pt: 100%"
          }
        },
        "ba5e4568dcc1463ab4c6fe474c7b7bbb": {
          "model_module": "@jupyter-widgets/controls",
          "model_name": "FloatProgressModel",
          "model_module_version": "1.5.0",
          "state": {
            "_dom_classes": [],
            "_model_module": "@jupyter-widgets/controls",
            "_model_module_version": "1.5.0",
            "_model_name": "FloatProgressModel",
            "_view_count": null,
            "_view_module": "@jupyter-widgets/controls",
            "_view_module_version": "1.5.0",
            "_view_name": "ProgressView",
            "bar_style": "success",
            "description": "",
            "description_tooltip": null,
            "layout": "IPY_MODEL_5be8f5caca59450eb3e5c15961091acc",
            "max": 3741740229,
            "min": 0,
            "orientation": "horizontal",
            "style": "IPY_MODEL_4be23179cb0b4ee78c8803c6f5e029e5",
            "value": 3741740229
          }
        },
        "5b1455813454496eb5175f09b1cb5fb8": {
          "model_module": "@jupyter-widgets/controls",
          "model_name": "HTMLModel",
          "model_module_version": "1.5.0",
          "state": {
            "_dom_classes": [],
            "_model_module": "@jupyter-widgets/controls",
            "_model_module_version": "1.5.0",
            "_model_name": "HTMLModel",
            "_view_count": null,
            "_view_module": "@jupyter-widgets/controls",
            "_view_module_version": "1.5.0",
            "_view_name": "HTMLView",
            "description": "",
            "description_tooltip": null,
            "layout": "IPY_MODEL_08f581e1aba049058a014f8acfe783da",
            "placeholder": "​",
            "style": "IPY_MODEL_87a366270ccc440f82ae45bd98d491b4",
            "value": " 3.74G/3.74G [00:15&lt;00:00, 335MB/s]"
          }
        },
        "66f72540184b4454967be6b52c9bb4c3": {
          "model_module": "@jupyter-widgets/base",
          "model_name": "LayoutModel",
          "model_module_version": "1.2.0",
          "state": {
            "_model_module": "@jupyter-widgets/base",
            "_model_module_version": "1.2.0",
            "_model_name": "LayoutModel",
            "_view_count": null,
            "_view_module": "@jupyter-widgets/base",
            "_view_module_version": "1.2.0",
            "_view_name": "LayoutView",
            "align_content": null,
            "align_items": null,
            "align_self": null,
            "border": null,
            "bottom": null,
            "display": null,
            "flex": null,
            "flex_flow": null,
            "grid_area": null,
            "grid_auto_columns": null,
            "grid_auto_flow": null,
            "grid_auto_rows": null,
            "grid_column": null,
            "grid_gap": null,
            "grid_row": null,
            "grid_template_areas": null,
            "grid_template_columns": null,
            "grid_template_rows": null,
            "height": null,
            "justify_content": null,
            "justify_items": null,
            "left": null,
            "margin": null,
            "max_height": null,
            "max_width": null,
            "min_height": null,
            "min_width": null,
            "object_fit": null,
            "object_position": null,
            "order": null,
            "overflow": null,
            "overflow_x": null,
            "overflow_y": null,
            "padding": null,
            "right": null,
            "top": null,
            "visibility": null,
            "width": null
          }
        },
        "e7f234cc7ee5461a86afd20b9ccf5486": {
          "model_module": "@jupyter-widgets/base",
          "model_name": "LayoutModel",
          "model_module_version": "1.2.0",
          "state": {
            "_model_module": "@jupyter-widgets/base",
            "_model_module_version": "1.2.0",
            "_model_name": "LayoutModel",
            "_view_count": null,
            "_view_module": "@jupyter-widgets/base",
            "_view_module_version": "1.2.0",
            "_view_name": "LayoutView",
            "align_content": null,
            "align_items": null,
            "align_self": null,
            "border": null,
            "bottom": null,
            "display": null,
            "flex": null,
            "flex_flow": null,
            "grid_area": null,
            "grid_auto_columns": null,
            "grid_auto_flow": null,
            "grid_auto_rows": null,
            "grid_column": null,
            "grid_gap": null,
            "grid_row": null,
            "grid_template_areas": null,
            "grid_template_columns": null,
            "grid_template_rows": null,
            "height": null,
            "justify_content": null,
            "justify_items": null,
            "left": null,
            "margin": null,
            "max_height": null,
            "max_width": null,
            "min_height": null,
            "min_width": null,
            "object_fit": null,
            "object_position": null,
            "order": null,
            "overflow": null,
            "overflow_x": null,
            "overflow_y": null,
            "padding": null,
            "right": null,
            "top": null,
            "visibility": null,
            "width": null
          }
        },
        "87cd78a397c548f296d1317060161014": {
          "model_module": "@jupyter-widgets/controls",
          "model_name": "DescriptionStyleModel",
          "model_module_version": "1.5.0",
          "state": {
            "_model_module": "@jupyter-widgets/controls",
            "_model_module_version": "1.5.0",
            "_model_name": "DescriptionStyleModel",
            "_view_count": null,
            "_view_module": "@jupyter-widgets/base",
            "_view_module_version": "1.2.0",
            "_view_name": "StyleView",
            "description_width": ""
          }
        },
        "5be8f5caca59450eb3e5c15961091acc": {
          "model_module": "@jupyter-widgets/base",
          "model_name": "LayoutModel",
          "model_module_version": "1.2.0",
          "state": {
            "_model_module": "@jupyter-widgets/base",
            "_model_module_version": "1.2.0",
            "_model_name": "LayoutModel",
            "_view_count": null,
            "_view_module": "@jupyter-widgets/base",
            "_view_module_version": "1.2.0",
            "_view_name": "LayoutView",
            "align_content": null,
            "align_items": null,
            "align_self": null,
            "border": null,
            "bottom": null,
            "display": null,
            "flex": null,
            "flex_flow": null,
            "grid_area": null,
            "grid_auto_columns": null,
            "grid_auto_flow": null,
            "grid_auto_rows": null,
            "grid_column": null,
            "grid_gap": null,
            "grid_row": null,
            "grid_template_areas": null,
            "grid_template_columns": null,
            "grid_template_rows": null,
            "height": null,
            "justify_content": null,
            "justify_items": null,
            "left": null,
            "margin": null,
            "max_height": null,
            "max_width": null,
            "min_height": null,
            "min_width": null,
            "object_fit": null,
            "object_position": null,
            "order": null,
            "overflow": null,
            "overflow_x": null,
            "overflow_y": null,
            "padding": null,
            "right": null,
            "top": null,
            "visibility": null,
            "width": null
          }
        },
        "4be23179cb0b4ee78c8803c6f5e029e5": {
          "model_module": "@jupyter-widgets/controls",
          "model_name": "ProgressStyleModel",
          "model_module_version": "1.5.0",
          "state": {
            "_model_module": "@jupyter-widgets/controls",
            "_model_module_version": "1.5.0",
            "_model_name": "ProgressStyleModel",
            "_view_count": null,
            "_view_module": "@jupyter-widgets/base",
            "_view_module_version": "1.2.0",
            "_view_name": "StyleView",
            "bar_color": null,
            "description_width": ""
          }
        },
        "08f581e1aba049058a014f8acfe783da": {
          "model_module": "@jupyter-widgets/base",
          "model_name": "LayoutModel",
          "model_module_version": "1.2.0",
          "state": {
            "_model_module": "@jupyter-widgets/base",
            "_model_module_version": "1.2.0",
            "_model_name": "LayoutModel",
            "_view_count": null,
            "_view_module": "@jupyter-widgets/base",
            "_view_module_version": "1.2.0",
            "_view_name": "LayoutView",
            "align_content": null,
            "align_items": null,
            "align_self": null,
            "border": null,
            "bottom": null,
            "display": null,
            "flex": null,
            "flex_flow": null,
            "grid_area": null,
            "grid_auto_columns": null,
            "grid_auto_flow": null,
            "grid_auto_rows": null,
            "grid_column": null,
            "grid_gap": null,
            "grid_row": null,
            "grid_template_areas": null,
            "grid_template_columns": null,
            "grid_template_rows": null,
            "height": null,
            "justify_content": null,
            "justify_items": null,
            "left": null,
            "margin": null,
            "max_height": null,
            "max_width": null,
            "min_height": null,
            "min_width": null,
            "object_fit": null,
            "object_position": null,
            "order": null,
            "overflow": null,
            "overflow_x": null,
            "overflow_y": null,
            "padding": null,
            "right": null,
            "top": null,
            "visibility": null,
            "width": null
          }
        },
        "87a366270ccc440f82ae45bd98d491b4": {
          "model_module": "@jupyter-widgets/controls",
          "model_name": "DescriptionStyleModel",
          "model_module_version": "1.5.0",
          "state": {
            "_model_module": "@jupyter-widgets/controls",
            "_model_module_version": "1.5.0",
            "_model_name": "DescriptionStyleModel",
            "_view_count": null,
            "_view_module": "@jupyter-widgets/base",
            "_view_module_version": "1.2.0",
            "_view_name": "StyleView",
            "description_width": ""
          }
        }
      }
    }
  },
  "cells": [
    {
      "cell_type": "markdown",
      "metadata": {
        "id": "view-in-github",
        "colab_type": "text"
      },
      "source": [
        "<a href=\"https://colab.research.google.com/github/WenjunYuAnny/AI_Project_Foreign_Whisper/blob/output-video-with-audio-subtitle/Text_to_speech_with_time.ipynb\" target=\"_parent\"><img src=\"https://colab.research.google.com/assets/colab-badge.svg\" alt=\"Open In Colab\"/></a>"
      ]
    },
    {
      "cell_type": "code",
      "execution_count": 1,
      "metadata": {
        "id": "FUQPhIrb6H_W"
      },
      "outputs": [],
      "source": [
        "from scipy.io.wavfile import write as write_wav"
      ]
    },
    {
      "cell_type": "code",
      "source": [
        "pip install git+https://github.com/suno-ai/bark.git"
      ],
      "metadata": {
        "colab": {
          "base_uri": "https://localhost:8080/"
        },
        "id": "HxbYv8DF9DEZ",
        "outputId": "1b96e617-6244-4817-ff83-24682163f123"
      },
      "execution_count": 2,
      "outputs": [
        {
          "output_type": "stream",
          "name": "stdout",
          "text": [
            "Collecting git+https://github.com/suno-ai/bark.git\n",
            "  Cloning https://github.com/suno-ai/bark.git to /tmp/pip-req-build-xg8pysxg\n",
            "  Running command git clone --filter=blob:none --quiet https://github.com/suno-ai/bark.git /tmp/pip-req-build-xg8pysxg\n",
            "  Resolved https://github.com/suno-ai/bark.git to commit 773624d26db84278a55aacae9a16d7b25fbccab8\n",
            "  Installing build dependencies ... \u001b[?25l\u001b[?25hdone\n",
            "  Getting requirements to build wheel ... \u001b[?25l\u001b[?25hdone\n",
            "  Installing backend dependencies ... \u001b[?25l\u001b[?25hdone\n",
            "  Preparing metadata (pyproject.toml) ... \u001b[?25l\u001b[?25hdone\n",
            "Collecting boto3 (from suno-bark==0.0.1a0)\n",
            "  Downloading boto3-1.33.6-py3-none-any.whl (139 kB)\n",
            "\u001b[2K     \u001b[90m━━━━━━━━━━━━━━━━━━━━━━━━━━━━━━━━━━━━━━━━\u001b[0m \u001b[32m139.3/139.3 kB\u001b[0m \u001b[31m4.3 MB/s\u001b[0m eta \u001b[36m0:00:00\u001b[0m\n",
            "\u001b[?25hCollecting encodec (from suno-bark==0.0.1a0)\n",
            "  Downloading encodec-0.1.1.tar.gz (3.7 MB)\n",
            "\u001b[2K     \u001b[90m━━━━━━━━━━━━━━━━━━━━━━━━━━━━━━━━━━━━━━━━\u001b[0m \u001b[32m3.7/3.7 MB\u001b[0m \u001b[31m24.4 MB/s\u001b[0m eta \u001b[36m0:00:00\u001b[0m\n",
            "\u001b[?25h  Preparing metadata (setup.py) ... \u001b[?25l\u001b[?25hdone\n",
            "Collecting funcy (from suno-bark==0.0.1a0)\n",
            "  Downloading funcy-2.0-py2.py3-none-any.whl (30 kB)\n",
            "Requirement already satisfied: huggingface-hub>=0.14.1 in /usr/local/lib/python3.10/dist-packages (from suno-bark==0.0.1a0) (0.19.4)\n",
            "Requirement already satisfied: numpy in /usr/local/lib/python3.10/dist-packages (from suno-bark==0.0.1a0) (1.23.5)\n",
            "Requirement already satisfied: scipy in /usr/local/lib/python3.10/dist-packages (from suno-bark==0.0.1a0) (1.11.4)\n",
            "Requirement already satisfied: tokenizers in /usr/local/lib/python3.10/dist-packages (from suno-bark==0.0.1a0) (0.15.0)\n",
            "Requirement already satisfied: torch in /usr/local/lib/python3.10/dist-packages (from suno-bark==0.0.1a0) (2.1.0+cu118)\n",
            "Requirement already satisfied: tqdm in /usr/local/lib/python3.10/dist-packages (from suno-bark==0.0.1a0) (4.66.1)\n",
            "Requirement already satisfied: transformers in /usr/local/lib/python3.10/dist-packages (from suno-bark==0.0.1a0) (4.35.2)\n",
            "Requirement already satisfied: filelock in /usr/local/lib/python3.10/dist-packages (from huggingface-hub>=0.14.1->suno-bark==0.0.1a0) (3.13.1)\n",
            "Requirement already satisfied: fsspec>=2023.5.0 in /usr/local/lib/python3.10/dist-packages (from huggingface-hub>=0.14.1->suno-bark==0.0.1a0) (2023.6.0)\n",
            "Requirement already satisfied: requests in /usr/local/lib/python3.10/dist-packages (from huggingface-hub>=0.14.1->suno-bark==0.0.1a0) (2.31.0)\n",
            "Requirement already satisfied: pyyaml>=5.1 in /usr/local/lib/python3.10/dist-packages (from huggingface-hub>=0.14.1->suno-bark==0.0.1a0) (6.0.1)\n",
            "Requirement already satisfied: typing-extensions>=3.7.4.3 in /usr/local/lib/python3.10/dist-packages (from huggingface-hub>=0.14.1->suno-bark==0.0.1a0) (4.5.0)\n",
            "Requirement already satisfied: packaging>=20.9 in /usr/local/lib/python3.10/dist-packages (from huggingface-hub>=0.14.1->suno-bark==0.0.1a0) (23.2)\n",
            "Collecting botocore<1.34.0,>=1.33.6 (from boto3->suno-bark==0.0.1a0)\n",
            "  Downloading botocore-1.33.6-py3-none-any.whl (11.8 MB)\n",
            "\u001b[2K     \u001b[90m━━━━━━━━━━━━━━━━━━━━━━━━━━━━━━━━━━━━━━━━\u001b[0m \u001b[32m11.8/11.8 MB\u001b[0m \u001b[31m77.5 MB/s\u001b[0m eta \u001b[36m0:00:00\u001b[0m\n",
            "\u001b[?25hCollecting jmespath<2.0.0,>=0.7.1 (from boto3->suno-bark==0.0.1a0)\n",
            "  Downloading jmespath-1.0.1-py3-none-any.whl (20 kB)\n",
            "Collecting s3transfer<0.9.0,>=0.8.2 (from boto3->suno-bark==0.0.1a0)\n",
            "  Downloading s3transfer-0.8.2-py3-none-any.whl (82 kB)\n",
            "\u001b[2K     \u001b[90m━━━━━━━━━━━━━━━━━━━━━━━━━━━━━━━━━━━━━━━━\u001b[0m \u001b[32m82.0/82.0 kB\u001b[0m \u001b[31m10.9 MB/s\u001b[0m eta \u001b[36m0:00:00\u001b[0m\n",
            "\u001b[?25hRequirement already satisfied: torchaudio in /usr/local/lib/python3.10/dist-packages (from encodec->suno-bark==0.0.1a0) (2.1.0+cu118)\n",
            "Collecting einops (from encodec->suno-bark==0.0.1a0)\n",
            "  Downloading einops-0.7.0-py3-none-any.whl (44 kB)\n",
            "\u001b[2K     \u001b[90m━━━━━━━━━━━━━━━━━━━━━━━━━━━━━━━━━━━━━━━━\u001b[0m \u001b[32m44.6/44.6 kB\u001b[0m \u001b[31m6.7 MB/s\u001b[0m eta \u001b[36m0:00:00\u001b[0m\n",
            "\u001b[?25hRequirement already satisfied: sympy in /usr/local/lib/python3.10/dist-packages (from torch->suno-bark==0.0.1a0) (1.12)\n",
            "Requirement already satisfied: networkx in /usr/local/lib/python3.10/dist-packages (from torch->suno-bark==0.0.1a0) (3.2.1)\n",
            "Requirement already satisfied: jinja2 in /usr/local/lib/python3.10/dist-packages (from torch->suno-bark==0.0.1a0) (3.1.2)\n",
            "Requirement already satisfied: triton==2.1.0 in /usr/local/lib/python3.10/dist-packages (from torch->suno-bark==0.0.1a0) (2.1.0)\n",
            "Requirement already satisfied: regex!=2019.12.17 in /usr/local/lib/python3.10/dist-packages (from transformers->suno-bark==0.0.1a0) (2023.6.3)\n",
            "Requirement already satisfied: safetensors>=0.3.1 in /usr/local/lib/python3.10/dist-packages (from transformers->suno-bark==0.0.1a0) (0.4.1)\n",
            "Requirement already satisfied: python-dateutil<3.0.0,>=2.1 in /usr/local/lib/python3.10/dist-packages (from botocore<1.34.0,>=1.33.6->boto3->suno-bark==0.0.1a0) (2.8.2)\n",
            "Requirement already satisfied: urllib3<2.1,>=1.25.4 in /usr/local/lib/python3.10/dist-packages (from botocore<1.34.0,>=1.33.6->boto3->suno-bark==0.0.1a0) (2.0.7)\n",
            "Requirement already satisfied: MarkupSafe>=2.0 in /usr/local/lib/python3.10/dist-packages (from jinja2->torch->suno-bark==0.0.1a0) (2.1.3)\n",
            "Requirement already satisfied: charset-normalizer<4,>=2 in /usr/local/lib/python3.10/dist-packages (from requests->huggingface-hub>=0.14.1->suno-bark==0.0.1a0) (3.3.2)\n",
            "Requirement already satisfied: idna<4,>=2.5 in /usr/local/lib/python3.10/dist-packages (from requests->huggingface-hub>=0.14.1->suno-bark==0.0.1a0) (3.6)\n",
            "Requirement already satisfied: certifi>=2017.4.17 in /usr/local/lib/python3.10/dist-packages (from requests->huggingface-hub>=0.14.1->suno-bark==0.0.1a0) (2023.11.17)\n",
            "Requirement already satisfied: mpmath>=0.19 in /usr/local/lib/python3.10/dist-packages (from sympy->torch->suno-bark==0.0.1a0) (1.3.0)\n",
            "Requirement already satisfied: six>=1.5 in /usr/local/lib/python3.10/dist-packages (from python-dateutil<3.0.0,>=2.1->botocore<1.34.0,>=1.33.6->boto3->suno-bark==0.0.1a0) (1.16.0)\n",
            "Building wheels for collected packages: suno-bark, encodec\n",
            "  Building wheel for suno-bark (pyproject.toml) ... \u001b[?25l\u001b[?25hdone\n",
            "  Created wheel for suno-bark: filename=suno_bark-0.0.1a0-py3-none-any.whl size=2567413 sha256=18d23c3718075f742cb7b3480bfe1f6880a09995a2de2b966ac5aff281e71559\n",
            "  Stored in directory: /tmp/pip-ephem-wheel-cache-xsjsztrv/wheels/e6/6d/c2/107ed849afe600f905bb4049a026df3c7c5aa75d86c2721ec7\n",
            "  Building wheel for encodec (setup.py) ... \u001b[?25l\u001b[?25hdone\n",
            "  Created wheel for encodec: filename=encodec-0.1.1-py3-none-any.whl size=45759 sha256=e5b500e90ad05e8c426a1d50d867a6cffa976fba9d788ce84d69fd9b910834a8\n",
            "  Stored in directory: /root/.cache/pip/wheels/fc/36/cb/81af8b985a5f5e0815312d5e52b41263237af07b977e6bcbf3\n",
            "Successfully built suno-bark encodec\n",
            "Installing collected packages: funcy, jmespath, einops, botocore, s3transfer, encodec, boto3, suno-bark\n",
            "Successfully installed boto3-1.33.6 botocore-1.33.6 einops-0.7.0 encodec-0.1.1 funcy-2.0 jmespath-1.0.1 s3transfer-0.8.2 suno-bark-0.0.1a0\n"
          ]
        }
      ]
    },
    {
      "cell_type": "code",
      "source": [
        "from bark.generation import (\n",
        "    preload_models,\n",
        ")\n",
        "from bark import generate_audio, SAMPLE_RATE\n",
        "import numpy as np\n",
        "import librosa"
      ],
      "metadata": {
        "id": "5Ipf7Fcq8Veu"
      },
      "execution_count": 3,
      "outputs": []
    },
    {
      "cell_type": "code",
      "source": [
        "import os"
      ],
      "metadata": {
        "id": "-4H74XzK69lj"
      },
      "execution_count": 4,
      "outputs": []
    },
    {
      "cell_type": "code",
      "source": [
        "os.environ[\"SUNO_USE_SMALL_MODELS\"] = \"1\""
      ],
      "metadata": {
        "id": "EeWOn22M7jEX"
      },
      "execution_count": 5,
      "outputs": []
    },
    {
      "cell_type": "code",
      "source": [
        "preload_models()"
      ],
      "metadata": {
        "colab": {
          "base_uri": "https://localhost:8080/",
          "height": 330,
          "referenced_widgets": [
            "2f75f627f63d43aa9230edd6f6030c1f",
            "ce27e1bc78404ba096a2ee497417eaf3",
            "dddd31f671e246539123f970972439cb",
            "75db1dc5a3284c119ac7a7b9bb15f86f",
            "5a55c4de7b554f47ad9d5137c21c9596",
            "f08c9d14892447c4b35bd19d1f43eecf",
            "1855cdbccd19432187ff3f6b92c83e14",
            "082416048a7242ff9af41506d0fa02df",
            "c3f56bc377d444ab913a7d193a1caadf",
            "66470a2f79b64620bab2130cde4d2309",
            "5dcc3ecf083f42869e58c555e9a2bf33",
            "828e438d80464e51bb9dd33e4c928951",
            "4d78e0bbc71e4b278de2ff95a2cc106b",
            "f9fe9c9078724688bffb4ee883d78015",
            "4a604ad1dd2e4d4393343a49887ebc85",
            "c33e987d9f6b46c0804b47335d1476c7",
            "21d7131ddc78494bb61c8d358a49e0fc",
            "f49922d7c08d44829b2b6b1414354b58",
            "39440c052db94f339d27e71c2bb37778",
            "1144a7de3c1e40ddb0eb95f47cfca8b4",
            "0d4cc1eafd524bcc8c1145ba773a60f4",
            "6621a875dade420381c97b2a6d314153",
            "30914d0d595745368296ea858f8bb2ef",
            "1c3cdbc6fe33424990d62baf9a02ab70",
            "1bd7d74be7c64700a259503311fcc06a",
            "dace4c021c524f14b989b068182227e1",
            "1bab2ce865f14ed496371444736952e9",
            "1161eb2744b74fdfa337364944e57a5d",
            "33fa0745881e4bef81d43a54f78a1777",
            "e1244c695ae4459b80f421f948d28f25",
            "5febddcb7fe8410ab7ca123e4a04ddd2",
            "6ac300e999f8479d862fc266e54d07ed",
            "4ceb346c523d48fcbf76382a79914dcb",
            "9d92d2f461b24fc9bce37f06699efbba",
            "2e4958fdbd764c5c95e72fed822d22ce",
            "ce3e3777997a4b7d91a085255de22d3f",
            "2211161c5ee244ad83433993f538e06b",
            "5673a9555f80480ebb12f97bcef31f1c",
            "42660d6fc2e043dab18fa2274c011388",
            "a619206d5eac43b09a2928ca9507057a",
            "7d963a38896a43568041f69599382575",
            "f4ab807eb50944db8adbd9ad372cc83c",
            "1fcf4a83f5c94e6d87923f890fdf9124",
            "0657bdf2553b46e4805e72ce67283e75",
            "1dde9d2985e640de9509ad4f8ee2882f",
            "f75a4064c63847ad83cef8680c083a84",
            "43d6ee3558ef438b8b422be6782cc93c",
            "0e270cbb169048ac961562ec705db74b",
            "d237712e3d3549aca12ed813ab2940f2",
            "6c95489d899a4481bd7c9d42817f2f3f",
            "8132dbd16abd4f9ca557c4ab200e0de0",
            "8a140830f84e42768d03e9e30239a549",
            "9e3eaae1ddfb4b3bbbf9480ab3b431f1",
            "61f4596a618940aaa72a503d2e2813cb",
            "a152bddb7a9b443fa9e8401fd16f7c42",
            "dbe3dbcad42f4822942cad1221f85183",
            "002d54c233bd4100b038180ea174067a",
            "1b6c4802bb35459ea3b91f7c5b7ece56",
            "81a4e889be924143b92f925f19c2293e",
            "65468f88620b460d8a3bdbdb7dbf471b",
            "29ff060bd5fb427a97a0d88b91497191",
            "7adc4c7f97f44d4b81d5a870edd72096",
            "3f6442b890e84861aa02a9905276fd1c",
            "aacb92eafe564e0598d1470de15bc657",
            "05499adc06cf4f2eb85c937122288908",
            "d6bf821073df4865b49de22de738e0a3",
            "3f11c9e0e5c54df9b78ee64213f84a3e",
            "7326859e251945b9bf688474f24a4122",
            "ba5e4568dcc1463ab4c6fe474c7b7bbb",
            "5b1455813454496eb5175f09b1cb5fb8",
            "66f72540184b4454967be6b52c9bb4c3",
            "e7f234cc7ee5461a86afd20b9ccf5486",
            "87cd78a397c548f296d1317060161014",
            "5be8f5caca59450eb3e5c15961091acc",
            "4be23179cb0b4ee78c8803c6f5e029e5",
            "08f581e1aba049058a014f8acfe783da",
            "87a366270ccc440f82ae45bd98d491b4"
          ]
        },
        "id": "_RKjqqur6ku3",
        "outputId": "554392a6-53e8-41d5-aedb-5220238b8a1e"
      },
      "execution_count": 6,
      "outputs": [
        {
          "output_type": "display_data",
          "data": {
            "text/plain": [
              "text_2.pt:   0%|          | 0.00/5.35G [00:00<?, ?B/s]"
            ],
            "application/vnd.jupyter.widget-view+json": {
              "version_major": 2,
              "version_minor": 0,
              "model_id": "2f75f627f63d43aa9230edd6f6030c1f"
            }
          },
          "metadata": {}
        },
        {
          "output_type": "display_data",
          "data": {
            "text/plain": [
              "tokenizer_config.json:   0%|          | 0.00/29.0 [00:00<?, ?B/s]"
            ],
            "application/vnd.jupyter.widget-view+json": {
              "version_major": 2,
              "version_minor": 0,
              "model_id": "828e438d80464e51bb9dd33e4c928951"
            }
          },
          "metadata": {}
        },
        {
          "output_type": "display_data",
          "data": {
            "text/plain": [
              "vocab.txt:   0%|          | 0.00/996k [00:00<?, ?B/s]"
            ],
            "application/vnd.jupyter.widget-view+json": {
              "version_major": 2,
              "version_minor": 0,
              "model_id": "30914d0d595745368296ea858f8bb2ef"
            }
          },
          "metadata": {}
        },
        {
          "output_type": "display_data",
          "data": {
            "text/plain": [
              "tokenizer.json:   0%|          | 0.00/1.96M [00:00<?, ?B/s]"
            ],
            "application/vnd.jupyter.widget-view+json": {
              "version_major": 2,
              "version_minor": 0,
              "model_id": "9d92d2f461b24fc9bce37f06699efbba"
            }
          },
          "metadata": {}
        },
        {
          "output_type": "display_data",
          "data": {
            "text/plain": [
              "config.json:   0%|          | 0.00/625 [00:00<?, ?B/s]"
            ],
            "application/vnd.jupyter.widget-view+json": {
              "version_major": 2,
              "version_minor": 0,
              "model_id": "1dde9d2985e640de9509ad4f8ee2882f"
            }
          },
          "metadata": {}
        },
        {
          "output_type": "display_data",
          "data": {
            "text/plain": [
              "coarse_2.pt:   0%|          | 0.00/3.93G [00:00<?, ?B/s]"
            ],
            "application/vnd.jupyter.widget-view+json": {
              "version_major": 2,
              "version_minor": 0,
              "model_id": "dbe3dbcad42f4822942cad1221f85183"
            }
          },
          "metadata": {}
        },
        {
          "output_type": "display_data",
          "data": {
            "text/plain": [
              "fine_2.pt:   0%|          | 0.00/3.74G [00:00<?, ?B/s]"
            ],
            "application/vnd.jupyter.widget-view+json": {
              "version_major": 2,
              "version_minor": 0,
              "model_id": "3f11c9e0e5c54df9b78ee64213f84a3e"
            }
          },
          "metadata": {}
        },
        {
          "output_type": "stream",
          "name": "stderr",
          "text": [
            "/usr/local/lib/python3.10/dist-packages/torch/nn/utils/weight_norm.py:30: UserWarning: torch.nn.utils.weight_norm is deprecated in favor of torch.nn.utils.parametrizations.weight_norm.\n",
            "  warnings.warn(\"torch.nn.utils.weight_norm is deprecated in favor of torch.nn.utils.parametrizations.weight_norm.\")\n",
            "Downloading: \"https://dl.fbaipublicfiles.com/encodec/v0/encodec_24khz-d7cc33bc.th\" to /root/.cache/torch/hub/checkpoints/encodec_24khz-d7cc33bc.th\n",
            "100%|██████████| 88.9M/88.9M [00:00<00:00, 115MB/s]\n"
          ]
        }
      ]
    },
    {
      "cell_type": "code",
      "source": [
        "from google.colab import drive\n",
        "drive.mount('/content/drive')"
      ],
      "metadata": {
        "colab": {
          "base_uri": "https://localhost:8080/"
        },
        "id": "2DfGseOi6nPV",
        "outputId": "6c037e96-127b-41b3-aaf0-18c4b17cb879"
      },
      "execution_count": 7,
      "outputs": [
        {
          "output_type": "stream",
          "name": "stdout",
          "text": [
            "Mounted at /content/drive\n"
          ]
        }
      ]
    },
    {
      "cell_type": "code",
      "source": [
        "def srt_to_subtitles(srt_file_path):\n",
        "    with open(srt_file_path, 'r', encoding='utf-8') as file:\n",
        "        lines = file.readlines()\n",
        "\n",
        "    subtitles = []\n",
        "    current_subtitle = {}\n",
        "\n",
        "    for line in lines:\n",
        "        line = line.strip()\n",
        "        if line.isdigit():\n",
        "            if current_subtitle:\n",
        "                subtitles.append(current_subtitle)\n",
        "            current_subtitle = {}\n",
        "        elif '-->' in line:\n",
        "            start, end = map(float, line.split(\" --> \"))\n",
        "            current_subtitle[\"start\"] = start\n",
        "            current_subtitle[\"end\"] = end\n",
        "        elif line:\n",
        "            current_subtitle[\"text\"] = line\n",
        "    if current_subtitle:\n",
        "        subtitles.append(current_subtitle)\n",
        "    return subtitles"
      ],
      "metadata": {
        "id": "a0QWSwAX-_i3"
      },
      "execution_count": 8,
      "outputs": []
    },
    {
      "cell_type": "code",
      "source": [
        "def text_to_speech(subtitles, output_file_path):\n",
        "  SPEAKER = \"v2/fr_speaker_0\"\n",
        "  pieces = []\n",
        "  for i, subtitle in enumerate(subtitles):\n",
        "      print(\"start: \" +  subtitle[\"text\"])\n",
        "      text = subtitle[\"text\"]\n",
        "      audio_array = generate_audio(text, history_prompt=SPEAKER)\n",
        "      audio_array = audio_array.squeeze()\n",
        "      speed_factor = (subtitle[\"end\"] - subtitle[\"start\"]) / len(audio_array) * SAMPLE_RATE\n",
        "      print(\"video_original_length \", subtitle[\"end\"] - subtitle[\"start\"])\n",
        "      print(\"output length \", len(audio_array) / SAMPLE_RATE)\n",
        "      audio_array = librosa.effects.time_stretch(audio_array, rate=(1/speed_factor))\n",
        "      pieces.append(audio_array)\n",
        "      if i < len(subtitles) - 1:\n",
        "          pause = subtitles[i+1][\"start\"] - subtitles[i][\"end\"]\n",
        "          if pause > 0:\n",
        "            pause_audio = np.zeros(int(pause * SAMPLE_RATE))\n",
        "            pieces.append(pause_audio)\n",
        "  concatenated_audio = np.concatenate(pieces)\n",
        "  write_wav(output_file_path, rate=SAMPLE_RATE, data=concatenated_audio)"
      ],
      "metadata": {
        "id": "LYJ7sDiOuBsF"
      },
      "execution_count": 9,
      "outputs": []
    },
    {
      "cell_type": "code",
      "source": [
        "srt_file_path = \"/content/drive/MyDrive/2023 Fall Artificial Intelligence/Foreign Whisper/translated_srt/Attorney General Merrick Garland The 60 Minutes Interview.srt\""
      ],
      "metadata": {
        "id": "PDfHs6Uptrub"
      },
      "execution_count": 10,
      "outputs": []
    },
    {
      "cell_type": "code",
      "source": [
        "filename = os.path.splitext(os.path.basename(srt_file_path))[0] + '.wav'"
      ],
      "metadata": {
        "id": "ncKqGgeBt1Fi"
      },
      "execution_count": 11,
      "outputs": []
    },
    {
      "cell_type": "code",
      "source": [
        "output_file_dir = \"/content/drive/MyDrive/2023 Fall Artificial Intelligence/Foreign Whisper/translated_audio_time\"\n",
        "output_file_path = os.path.join(output_file_dir, filename)"
      ],
      "metadata": {
        "id": "8-gI6WcFt5mx"
      },
      "execution_count": 12,
      "outputs": []
    },
    {
      "cell_type": "code",
      "source": [
        "subtitles = srt_to_subtitles(srt_file_path)"
      ],
      "metadata": {
        "id": "8Gi7CpyRt73V"
      },
      "execution_count": 13,
      "outputs": []
    },
    {
      "cell_type": "code",
      "source": [
        "print(subtitles)"
      ],
      "metadata": {
        "colab": {
          "base_uri": "https://localhost:8080/"
        },
        "id": "CpksHeDB88IL",
        "outputId": "09c47293-2f8d-4f43-cbbb-131f749ff81b"
      },
      "execution_count": 14,
      "outputs": [
        {
          "output_type": "stream",
          "name": "stdout",
          "text": [
            "[{'start': 0.0, 'end': 8.0, 'text': 'Depuis Watergate, un procureur général n’a pas été au centre d’une telle tempête d’incendie.'}, {'start': 8.0, 'end': 16.0, 'text': \"Le ministère de la Justice de Merrick Garland poursuiv l'ancien président Trump et le fils du président Biden.\"}, {'start': 16.0, 'end': 24.0, 'text': 'Au milieu de cette affaire se trouve cet ancien procureur et juge de renommée de 70 ans, ayant une longue histoire de modéré.'}, {'start': 24.0, 'end': 36.0, 'text': \"Nous avons rencontré Garland vendredi à Washington et il nous a dit qu'il consacrait sa vie à l'état de droit en raison de la lutte de sa famille pour échapper à l'Holocauste.\"}, {'start': 36.0, 'end': 41.0, 'text': \"Il est maintenant responsable des poursuites qui façonneront l'avenir de la nation.\"}, {'start': 41.0, 'end': 54.0, 'text': \"Dans une rare entrevue, le procureur général nous a dit que dans les procès de Trump et de Biden qui s'annoncent, ses procureurs poursuivront la justice sans crainte et sans faveur.\"}, {'start': 55.0, 'end': 58.0, 'text': \"L'histoire se poursuivra dans un instant.\"}, {'start': 59.0, 'end': 68.0, 'text': \"Nous n'avons pas une règle pour les républicains et une autre pour les démocrates, pas une règle pour les ennemis et une autre pour les amis.\"}, {'start': 68.0, 'end': 74.0, 'text': \"Nous n'avons pas de règle pour les puissants et une autre pour les impuissants, pour les riches ou pour les pauvres en fonction de l'appartenance ethnique.\"}, {'start': 74.0, 'end': 84.0, 'text': \"Nous n'avons qu'une seule règle, à savoir que nous suivons les faits et la loi, que nous arrêtons les décisions requises par la Constitution et que nous protégeons les libertés civiles.\"}, {'start': 84.0, 'end': 89.0, 'text': \"tes-vous essentiellement en tant qu'avocat général au peuple américain, croyez-moi?\"}, {'start': 89.0, 'end': 95.0, 'text': \"Eh bien, en fin de compte, je suppose qu'il s'agit de confiance, mais ce n'est pas moi seulement.\"}, {'start': 95.0, 'end': 108.0, 'text': \"C'est les décennies de normes de ce ministère qui font partie de l'ADN des procureurs de carrière qui mènent l'enquête et supervisent les enquêtes dont vous parlez.\"}, {'start': 108.0, 'end': 122.0, 'text': \"L'ancien président Trump est en train de subir deux procès fédéraux, l'un pour avoir accumulé des documents classifiés et les avoir occultés, l'autre pour avoir conspiré à prendre le pouvoir après les élections de 2020.\"}, {'start': 122.0, 'end': 129.0, 'text': \"Le procureur général Garland n'a pas dit grand-chose à ce sujet et nous voulions comprendre pourquoi.\"}, {'start': 129.0, 'end': 141.0, 'text': \"Eh bien, je crois que la première chose à comprendre est que ces affaires sont en instance, parce qu'il y a deux mises en accusation fédérales, la règle de longue date au ministère de la Justice est que nous ne pouvons pas commenter les affaires en instance.\"}, {'start': 141.0, 'end': 143.0, 'text': \"Quelle est la raison d'être de cette règle?\"}, {'start': 143.0, 'end': 155.0, 'text': \"Une des raisons est de protéger la vie privée et les libertés civiles de la personne faisant l'objet d'une enquête, et d'assurer la protection des témoins qui peuvent aussi devenir publics ultérieurement dans une enquête.\"}, {'start': 155.0, 'end': 168.0, 'text': \"Enfin, il s'agit de protéger l'enquête elle-même, enquête qui se poursuit dans de nombreuses directions, et qui aboutit à la décision d'inculper ou non une personne ou une chose en particulier.\"}, {'start': 168.0, 'end': 181.0, 'text': \"Et si les témoins et les sujets potentiels savaient tout ce que les enquêteurs avaient examiné et étaient sur le point de l'examiner, cela pourrait bien changer le témoignage et nous rendre les témoins inaccessibles.\"}, {'start': 181.0, 'end': 184.0, 'text': \"Et cela n'est pas propre aux enquêtes de Trump.\"}, {'start': 184.0, 'end': 194.0, 'text': \"Eh bien, c'est une règle pour toutes les enquêtes. C'est une partie de ce que nous appelons notre Manuel de justice. Il y a probablement au moins 30 ans et probablement plus longtemps.\"}, {'start': 194.0, 'end': 207.0, 'text': \"Aidez-nous à comprendre le moment. Ces poursuites contre l'ancien président se déroulent pendant la campagne. Vous pourriez faire valoir que c'est le pire moment possible.\"}, {'start': 207.0, 'end': 221.0, 'text': 'Le ministère de la Justice a des pratiques générales selon lesquelles il ne prend pas de mesures évidentes ou ne facture pas dans un mois ou deux après une élection, mais nous ne sommes manifestement pas dans ce délai.'}, {'start': 221.0, 'end': 239.0, 'text': \"Dans ces cas, les procureurs, les conseillers spéciaux, ils suivent les faits et la loi où ils mènent leurs activités et, lorsqu'ils ont recueilli la preuve nécessaire pour rendre une décision d'accusation et qu'ils ont décidé qu'une accusation était justifiée, ils présentent leurs affaires.\"}, {'start': 239.0, 'end': 243.0, 'text': \"L'enquête elle-même a déterminé le moment.\"}, {'start': 243.0, 'end': 244.0, 'text': \"Oui, c'est exactement le cas.\"}, {'start': 244.0, 'end': 250.0, 'text': \"Vos critiques disent qu'il est temps de ruiner les chances de M. Trump à l'élection.\"}, {'start': 250.0, 'end': 260.0, 'text': \"Ce n'est absolument pas vrai. Les procureurs du ministère de la Justice sont non partisans et ne permettent pas que des considérations partisanes jouent un rôle dans leurs décisions.\"}, {'start': 260.0, 'end': 278.0, 'text': \"Le procureur dans les affaires Trump est Jack Smith. Il a été nommé par Garland avocat spécial. C'est un poste en vertu des règlements du ministère de la Justice conçus pour lui accorder une grande indépendance par rapport au ministère et à la Maison Blanche.\"}, {'start': 278.0, 'end': 288.0, 'text': \"Le plus important aspect de la réglementation est que le conseiller spécial n'est soumis à la surveillance quotidienne de personne au sein du Département de la justice.\"}, {'start': 288.0, 'end': 296.0, 'text': \"Vous n'êtes pas en communication avec le président ou un membre de son administration en ce qui concerne l'enquête sur l'ancien président Trump.\"}, {'start': 296.0, 'end': 297.0, 'text': 'Non, je ne le suis pas.'}, {'start': 297.0, 'end': 307.0, 'text': \"Si le président Biden vous demandait de prendre des mesures à l'égard de l'enquête Trump, quelle serait votre réaction?\"}, {'start': 307.0, 'end': 313.0, 'text': 'Je suis sûr que cela ne se produira pas, mais je ne ferai rien à cet égard.'}, {'start': 313.0, 'end': 319.0, 'text': \"Et si nécessaire, je démissionnerais, mais il n'y a aucun sens que cela se produise.\"}, {'start': 319.0, 'end': 324.0, 'text': 'Avez-vous déjà dû lui dire de ne pas ouvrir ces enquêtes, Monsieur le Président?'}, {'start': 324.0, 'end': 328.0, 'text': \"Non, parce qu'il n'a jamais essayé de mettre la main sur ces enquêtes.\"}, {'start': 328.0, 'end': 340.0, 'text': \"Par ailleurs, le président Biden lui-même fait l'objet d'une enquête menée par un procureur spécial pour déterminer s'il a détenu des documents classifiés à mauvais escient après avoir été vice-président.\"}, {'start': 340.0, 'end': 349.0, 'text': \"Son fils, Hunter Biden, fait l'objet d'une enquête de quatre ans sur ses affaires et ses impôts.\"}, {'start': 349.0, 'end': 355.0, 'text': \"Il a été inculpé pour avoir menti au sujet de l'abus de drogues lorsqu'il a acheté une arme à feu.\"}, {'start': 355.0, 'end': 363.0, 'text': \"Les républicains accusent David Weiss, avocat spécial, de ralentir l'enquête de Hunter Biden.\"}, {'start': 363.0, 'end': 377.0, 'text': \"L'allégation est que, Monsieur le Procureur général, ce que l'on décrit dans certains milieux comme le ministère de la Justice de Biden s'assouplit du fils du président.\"}, {'start': 377.0, 'end': 382.0, 'text': 'Eh bien, cette enquête a commencé sous la direction de David Weiss.'}, {'start': 382.0, 'end': 392.0, 'text': 'David Weiss est un procureur de longue date et a été nommé par M. Trump Procureur des États-Unis pour le district du Delaware.'}, {'start': 392.0, 'end': 400.0, 'text': \"J'ai promis à l'audience de mise en candidature que je continuerais à occuper ce poste et que je ne m'immiscerait pas dans cette enquête.\"}, {'start': 400.0, 'end': 403.0, 'text': 'Vous ne participez pas à ces décisions.'}, {'start': 403.0, 'end': 405.0, 'text': 'Non, M. Weiss prend ces décisions.'}, {'start': 405.0, 'end': 408.0, 'text': \"La Maison Blanche ne tente pas d'influencer ces décisions.\"}, {'start': 408.0, 'end': 410.0, 'text': 'Pas absolument.'}, {'start': 410.0, 'end': 414.0, 'text': \"Et il nous a dit que nous n'aurons pas à prendre son mot pour cela.\"}, {'start': 414.0, 'end': 420.0, 'text': 'En vertu des règlements du ministère de la Justice, un conseiller spécial doit rédiger un rapport final.'}, {'start': 420.0, 'end': 425.0, 'text': 'Je rendrai publiques les informations que la loi permet.'}, {'start': 425.0, 'end': 435.0, 'text': \"Cela n'est pas nécessaire pour expliquer leurs décisions en matière de poursuites, leurs décisions de poursuivre ou de ne pas poursuivre et leurs décisions stratégiques en cours de route.\"}, {'start': 435.0, 'end': 441.0, 'text': \"Habituellement, les conseillers spéciaux ont témoigné à la fin de leurs rapports, et je m'attends à ce que c'est le cas ici.\"}, {'start': 441.0, 'end': 443.0, 'text': 'Comment êtes-vous en relation avec le président?'}, {'start': 443.0, 'end': 445.0, 'text': 'Il doit être gelé.'}, {'start': 445.0, 'end': 449.0, 'text': \"J'ai de bonnes relations de travail avec le président.\"}, {'start': 449.0, 'end': 453.0, 'text': 'Bien, peut-être, mais peut-être pas aussi près.'}, {'start': 453.0, 'end': 459.0, 'text': \"Le président a abordé la question en août lorsqu'il a remarqué Garland à une activité à la Maison Blanche.\"}, {'start': 459.0, 'end': 462.0, 'text': 'Le procureur général Garland, je ne vous ai pas vu depuis longtemps, et je suis heureux de vous voir.'}, {'start': 462.0, 'end': 465.0, 'text': 'Secrétaire du ministère du Patrimoine canadien, vous pensez que je fais du rire ou pas?'}, {'start': 470.0, 'end': 480.0, 'text': \"Le procureur général Garland dirige 115 000 employés, procureurs, agents du FBI et autres organismes fédéraux d'application de la loi.\"}, {'start': 480.0, 'end': 488.0, 'text': 'Des mesures de sécurité supplémentaires sont désormais prévues pour protéger les juges et les procureurs après que les affaires Trump aient suscité des menaces de mort.'}, {'start': 488.0, 'end': 493.0, 'text': \"La violence politique est l'une des préoccupations les plus graves de Garland.\"}, {'start': 493.0, 'end': 500.0, 'text': \"Les gens peuvent se disputer autant qu'ils le veulent, et aussi violemment qu'ils le veulent.\"}, {'start': 500.0, 'end': 505.0, 'text': 'Mais il ne peut pas recourir à la violence et aux menaces de violence pour modifier le résultat.'}, {'start': 505.0, 'end': 509.0, 'text': \"Et l'aspect important de cette situation est le peuple américain lui-même.\"}, {'start': 509.0, 'end': 512.0, 'text': 'Le peuple américain doit se protéger les uns des autres.'}, {'start': 512.0, 'end': 528.0, 'text': 'Ils doivent s’assurer qu’ils se traitent les uns les autres avec civilité et bonté, qu’ils écoutent les opinions opposées, qu’ils s’expriment aussi énergiquement qu’ils le souhaitent,'}, {'start': 528.0, 'end': 531.0, 'text': \"mais s'abstiennent de la violence et des menaces de violence.\"}, {'start': 531.0, 'end': 534.0, 'text': \"C'est la seule façon dont cette démocratie survivra.\"}, {'start': 534.0, 'end': 536.0, 'text': 'Pourquoi êtes-vous si convaincu de cela?'}, {'start': 536.0, 'end': 541.0, 'text': \"Eh bien, je le pense pour un certain nombre de raisons et pour un certain nombre de choses que j'ai vues.\"}, {'start': 541.0, 'end': 558.0, 'text': \"Mais pour ma propre famille qui a fui la persécution religieuse en Europe et pour certains de ses membres qui n'ont pas survécu lorsqu'ils sont arrivés aux États-Unis,\"}, {'start': 558.0, 'end': 565.0, 'text': 'l’État-Unis protégé.'}, {'start': 565.0, 'end': 576.0, 'text': \"Elle garantit qu'ils peuvent pratiquer leur religion, qu'ils peuvent voter, qu'ils peuvent faire toutes les choses qu'ils pensent qu'une démocratie leur apportera.\"}, {'start': 576.0, 'end': 581.0, 'text': \"C'est la différence entre ce pays et beaucoup d'autres pays.\"}, {'start': 581.0, 'end': 589.0, 'text': \"C'est ma responsabilité, c'est la responsabilité du ministère de la Justice de veiller à ce que cette différence continue, à ce que nous nous protégeions les uns les autres.\"}, {'start': 589.0, 'end': 597.0, 'text': \"Deux de vos ancêtres ont été assassinés lors de l'Holocauste.\"}, {'start': 597.0, 'end': 598.0, 'text': 'Oui.'}, {'start': 598.0, 'end': 601.0, 'text': \"C'est pourquoi vous vous êtes consacré à la loi?\"}, {'start': 601.0, 'end': 616.0, 'text': \"Oui. C'est pourquoi je me suis consacré à la primauté du droit, à la fonction publique, à essayer de faire en sorte que la primauté du droit gouverne ce pays et continue de gouverner ce pays.\"}, {'start': 616.0, 'end': 619.0, 'text': 'Merrick Garland a passé une vie en droit.'}, {'start': 619.0, 'end': 625.0, 'text': 'M-E-R-R-I-C-K-G-A-R-L-A-N-D, il est sous-procureur général délégué.'}, {'start': 625.0, 'end': 631.0, 'text': \"Justice, il a supervisé l'affaire de l'attentat à la bombe d'Oklahoma City, acte de terrorisme politique.\"}, {'start': 631.0, 'end': 640.0, 'text': \"Plus tard, après près de deux décennies de carrière en tant que juge de la cour d'appel fédérale, il a été nommé à la Cour suprême des États-Unis par le président Obama.\"}, {'start': 640.0, 'end': 647.0, 'text': 'Mais les républicains ont bloqué la nomination pendant dix mois avant que Donald Trump ne soit assermenté.'}, {'start': 647.0, 'end': 651.0, 'text': 'Le président élu Biden a choisi Garland pour le poste de procureur général.'}, {'start': 651.0, 'end': 660.0, 'text': \"Le même jour, le Capitole fut attaqué, ce qui devenait l'une des plus grandes enquêtes de l'histoire du Ministère.\"}, {'start': 660.0, 'end': 666.0, 'text': 'Nous avons arrêté et inculpé plus de 1 100 personnes.'}, {'start': 666.0, 'end': 685.0, 'text': \"Les vidéos que chaque personne avait sur son téléphone, que les caméras de sécurité avaient, que les spectateurs avaient, que les médias avaient à l'époque, révélaient des visages, dont certains n'ont pas encore pu se connecter aux gens.\"}, {'start': 685.0, 'end': 688.0, 'text': 'Vous cherchez de nouveaux suspects, de nouveaux accusés encore.'}, {'start': 688.0, 'end': 692.0, 'text': \"Oui, ce n'est pas parce qu'ils sont de nouveaux suspects, mais parce qu'ils sont des personnes que nous n'avons pas encore trouvées.\"}, {'start': 692.0, 'end': 696.0, 'text': 'Pourquoi ces poursuites vous valent-elles tant?'}, {'start': 696.0, 'end': 704.0, 'text': \"Parce qu'il s'agit d'un aspect fondamental de notre démocratie et que si nous ne pouvons pas nous assurer que ce genre de comportement ne se reproduise pas, il se reproduira.\"}, {'start': 704.0, 'end': 709.0, 'text': 'Les poursuites que nous engageons sont une mesure de dissuasion contre ce genre de fait.'}, {'start': 709.0, 'end': 715.0, 'text': \"Garland sait qu'il sera vilifié, peu importe la manière dont les affaires Trump et Biden seront tranchées.\"}, {'start': 715.0, 'end': 720.0, 'text': \"Il nous a dit qu'il avait pour tâche de prendre les flèches pour le ministère.\"}, {'start': 720.0, 'end': 724.0, 'text': \"Il a appris à s'acquitter de la douleur qui accompagne le travail.\"}, {'start': 724.0, 'end': 728.0, 'text': 'Le plus jeune est Riot Mitchell, âgé de huit mois à jamais.'}, {'start': 728.0, 'end': 735.0, 'text': \"Nous avons vu cela au siège de la DEA, où il était entouré de ceux qui ont perdu la vie à cause de l'épidémie d'opiodes.\"}, {'start': 735.0, 'end': 738.0, 'text': \"C'est le procureur général, Merrick Garland.\"}, {'start': 738.0, 'end': 747.0, 'text': 'Il nous a dit que la rencontre avec eux lui rappelle pourquoi il combat et pour qui il lutte.'}, {'start': 747.0, 'end': 749.0, 'text': \"Merci d'être ici et de nous écouter.\"}, {'start': 749.0, 'end': 755.0, 'text': 'Je représente le peuple américain, je ne représente pas le président, je représente le peuple américain.'}, {'start': 755.0, 'end': 762.0, 'text': 'De même, je ne suis pas le procureur du Congrès, mais je travaille pour le peuple américain.'}, {'start': 762.0, 'end': 777.0, 'text': \"Et si la démocratie est un sujet émotionnel pour Merrick Garland, c'est peut-être parce qu'il a vu à quel point elle peut soudainement être menacée à Oklahoma City et à Washington, D.C.\"}, {'start': 777.0, 'end': 786.0, 'text': \"Quand l'histoire de cette époque extraordinaire est écrite, quel est le meilleur que Merrick Garland puisse espérer?\"}, {'start': 786.0, 'end': 799.0, 'text': \"Je crois que c'est le meilleur que tout fonctionnaire puisse espérer, que nous avons fait de notre mieux, que nous transmettions un ministère de la Justice qui continue de poursuivre la primauté du droit et de la protéger.\"}, {'start': 799.0, 'end': 818.0, 'text': \"Et c'est la même chose que chaque génération doit espérer, que nous pouvons transmettre notre démocratie en bon état de marche à la prochaine génération qui prend le flambeau et qui est responsable, une fois terminée, de poursuivre ce travail.\"}]\n"
          ]
        }
      ]
    },
    {
      "cell_type": "code",
      "source": [
        "text_to_speech(subtitles, output_file_path)"
      ],
      "metadata": {
        "colab": {
          "base_uri": "https://localhost:8080/"
        },
        "id": "X0BlH60NvGdl",
        "outputId": "82ebc32c-2d08-4f36-db58-63e4c87d466a"
      },
      "execution_count": 15,
      "outputs": [
        {
          "output_type": "stream",
          "name": "stdout",
          "text": [
            "start: Depuis Watergate, un procureur général n’a pas été au centre d’une telle tempête d’incendie.\n"
          ]
        },
        {
          "output_type": "stream",
          "name": "stderr",
          "text": [
            "100%|██████████| 316/316 [00:03<00:00, 88.11it/s]\n",
            "100%|██████████| 16/16 [00:10<00:00,  1.54it/s]\n"
          ]
        },
        {
          "output_type": "stream",
          "name": "stdout",
          "text": [
            "video_original_length  8.0\n",
            "output length  6.32\n",
            "start: Le ministère de la Justice de Merrick Garland poursuiv l'ancien président Trump et le fils du président Biden.\n"
          ]
        },
        {
          "output_type": "stream",
          "name": "stderr",
          "text": [
            "100%|██████████| 325/325 [00:03<00:00, 94.58it/s]\n",
            "100%|██████████| 17/17 [00:10<00:00,  1.61it/s]\n"
          ]
        },
        {
          "output_type": "stream",
          "name": "stdout",
          "text": [
            "video_original_length  8.0\n",
            "output length  6.506666666666667\n",
            "start: Au milieu de cette affaire se trouve cet ancien procureur et juge de renommée de 70 ans, ayant une longue histoire de modéré.\n"
          ]
        },
        {
          "output_type": "stream",
          "name": "stderr",
          "text": [
            "100%|██████████| 411/411 [00:04<00:00, 92.19it/s]\n",
            "100%|██████████| 21/21 [00:13<00:00,  1.56it/s]\n"
          ]
        },
        {
          "output_type": "stream",
          "name": "stdout",
          "text": [
            "video_original_length  8.0\n",
            "output length  8.226666666666667\n",
            "start: Nous avons rencontré Garland vendredi à Washington et il nous a dit qu'il consacrait sa vie à l'état de droit en raison de la lutte de sa famille pour échapper à l'Holocauste.\n"
          ]
        },
        {
          "output_type": "stream",
          "name": "stderr",
          "text": [
            "100%|██████████| 653/653 [00:06<00:00, 95.51it/s]\n",
            "100%|██████████| 33/33 [00:21<00:00,  1.54it/s]\n"
          ]
        },
        {
          "output_type": "stream",
          "name": "stdout",
          "text": [
            "video_original_length  12.0\n",
            "output length  13.08\n",
            "start: Il est maintenant responsable des poursuites qui façonneront l'avenir de la nation.\n"
          ]
        },
        {
          "output_type": "stream",
          "name": "stderr",
          "text": [
            "100%|██████████| 555/555 [00:05<00:00, 97.46it/s]\n",
            "100%|██████████| 28/28 [00:18<00:00,  1.55it/s]\n"
          ]
        },
        {
          "output_type": "stream",
          "name": "stdout",
          "text": [
            "video_original_length  5.0\n",
            "output length  11.12\n",
            "start: Dans une rare entrevue, le procureur général nous a dit que dans les procès de Trump et de Biden qui s'annoncent, ses procureurs poursuivront la justice sans crainte et sans faveur.\n"
          ]
        },
        {
          "output_type": "stream",
          "name": "stderr",
          "text": [
            "100%|██████████| 623/623 [00:06<00:00, 95.05it/s]\n",
            "100%|██████████| 32/32 [00:20<00:00,  1.56it/s]\n"
          ]
        },
        {
          "output_type": "stream",
          "name": "stdout",
          "text": [
            "video_original_length  13.0\n",
            "output length  12.48\n",
            "start: L'histoire se poursuivra dans un instant.\n"
          ]
        },
        {
          "output_type": "stream",
          "name": "stderr",
          "text": [
            "100%|██████████| 151/151 [00:01<00:00, 94.07it/s]\n",
            "100%|██████████| 8/8 [00:04<00:00,  1.63it/s]\n"
          ]
        },
        {
          "output_type": "stream",
          "name": "stdout",
          "text": [
            "video_original_length  3.0\n",
            "output length  3.013333333333333\n",
            "start: Nous n'avons pas une règle pour les républicains et une autre pour les démocrates, pas une règle pour les ennemis et une autre pour les amis.\n"
          ]
        },
        {
          "output_type": "stream",
          "name": "stderr",
          "text": [
            "100%|██████████| 448/448 [00:04<00:00, 93.11it/s]\n",
            "100%|██████████| 23/23 [00:14<00:00,  1.56it/s]\n"
          ]
        },
        {
          "output_type": "stream",
          "name": "stdout",
          "text": [
            "video_original_length  9.0\n",
            "output length  8.973333333333333\n",
            "start: Nous n'avons pas de règle pour les puissants et une autre pour les impuissants, pour les riches ou pour les pauvres en fonction de l'appartenance ethnique.\n"
          ]
        },
        {
          "output_type": "stream",
          "name": "stderr",
          "text": [
            "100%|██████████| 463/463 [00:04<00:00, 93.30it/s]\n",
            "100%|██████████| 24/24 [00:15<00:00,  1.60it/s]\n"
          ]
        },
        {
          "output_type": "stream",
          "name": "stdout",
          "text": [
            "video_original_length  6.0\n",
            "output length  9.266666666666667\n",
            "start: Nous n'avons qu'une seule règle, à savoir que nous suivons les faits et la loi, que nous arrêtons les décisions requises par la Constitution et que nous protégeons les libertés civiles.\n"
          ]
        },
        {
          "output_type": "stream",
          "name": "stderr",
          "text": [
            "100%|██████████| 590/590 [00:06<00:00, 92.52it/s]\n",
            "100%|██████████| 30/30 [00:19<00:00,  1.57it/s]\n"
          ]
        },
        {
          "output_type": "stream",
          "name": "stdout",
          "text": [
            "video_original_length  10.0\n",
            "output length  11.813333333333333\n",
            "start: tes-vous essentiellement en tant qu'avocat général au peuple américain, croyez-moi?\n"
          ]
        },
        {
          "output_type": "stream",
          "name": "stderr",
          "text": [
            "100%|██████████| 554/554 [00:05<00:00, 93.67it/s]\n",
            "100%|██████████| 28/28 [00:18<00:00,  1.54it/s]\n"
          ]
        },
        {
          "output_type": "stream",
          "name": "stdout",
          "text": [
            "video_original_length  5.0\n",
            "output length  11.093333333333334\n",
            "start: Eh bien, en fin de compte, je suppose qu'il s'agit de confiance, mais ce n'est pas moi seulement.\n"
          ]
        },
        {
          "output_type": "stream",
          "name": "stderr",
          "text": [
            "100%|██████████| 315/315 [00:03<00:00, 96.31it/s]\n",
            "100%|██████████| 16/16 [00:10<00:00,  1.53it/s]\n"
          ]
        },
        {
          "output_type": "stream",
          "name": "stdout",
          "text": [
            "video_original_length  6.0\n",
            "output length  6.306666666666667\n",
            "start: C'est les décennies de normes de ce ministère qui font partie de l'ADN des procureurs de carrière qui mènent l'enquête et supervisent les enquêtes dont vous parlez.\n"
          ]
        },
        {
          "output_type": "stream",
          "name": "stderr",
          "text": [
            "100%|██████████| 526/526 [00:05<00:00, 93.49it/s]\n",
            "100%|██████████| 27/27 [00:17<00:00,  1.57it/s]\n"
          ]
        },
        {
          "output_type": "stream",
          "name": "stdout",
          "text": [
            "video_original_length  13.0\n",
            "output length  10.533333333333333\n",
            "start: L'ancien président Trump est en train de subir deux procès fédéraux, l'un pour avoir accumulé des documents classifiés et les avoir occultés, l'autre pour avoir conspiré à prendre le pouvoir après les élections de 2020.\n"
          ]
        },
        {
          "output_type": "stream",
          "name": "stderr",
          "text": [
            "100%|██████████| 704/704 [00:07<00:00, 95.69it/s]\n",
            "100%|██████████| 36/36 [00:23<00:00,  1.56it/s]\n"
          ]
        },
        {
          "output_type": "stream",
          "name": "stdout",
          "text": [
            "video_original_length  14.0\n",
            "output length  14.106666666666667\n",
            "start: Le procureur général Garland n'a pas dit grand-chose à ce sujet et nous voulions comprendre pourquoi.\n"
          ]
        },
        {
          "output_type": "stream",
          "name": "stderr",
          "text": [
            "100%|██████████| 367/367 [00:03<00:00, 93.66it/s]\n",
            "100%|██████████| 19/19 [00:12<00:00,  1.56it/s]\n"
          ]
        },
        {
          "output_type": "stream",
          "name": "stdout",
          "text": [
            "video_original_length  7.0\n",
            "output length  7.346666666666667\n",
            "start: Eh bien, je crois que la première chose à comprendre est que ces affaires sont en instance, parce qu'il y a deux mises en accusation fédérales, la règle de longue date au ministère de la Justice est que nous ne pouvons pas commenter les affaires en instance.\n"
          ]
        },
        {
          "output_type": "stream",
          "name": "stderr",
          "text": [
            "100%|██████████| 698/698 [00:07<00:00, 93.25it/s]\n",
            "100%|██████████| 35/35 [00:22<00:00,  1.53it/s]\n"
          ]
        },
        {
          "output_type": "stream",
          "name": "stdout",
          "text": [
            "video_original_length  12.0\n",
            "output length  13.986666666666666\n",
            "start: Quelle est la raison d'être de cette règle?\n"
          ]
        },
        {
          "output_type": "stream",
          "name": "stderr",
          "text": [
            "100%|██████████| 156/156 [00:01<00:00, 94.94it/s]\n",
            "100%|██████████| 8/8 [00:05<00:00,  1.57it/s]\n"
          ]
        },
        {
          "output_type": "stream",
          "name": "stdout",
          "text": [
            "video_original_length  2.0\n",
            "output length  3.12\n",
            "start: Une des raisons est de protéger la vie privée et les libertés civiles de la personne faisant l'objet d'une enquête, et d'assurer la protection des témoins qui peuvent aussi devenir publics ultérieurement dans une enquête.\n"
          ]
        },
        {
          "output_type": "stream",
          "name": "stderr",
          "text": [
            "100%|██████████| 656/656 [00:07<00:00, 92.60it/s]\n",
            "100%|██████████| 33/33 [00:21<00:00,  1.54it/s]\n"
          ]
        },
        {
          "output_type": "stream",
          "name": "stdout",
          "text": [
            "video_original_length  12.0\n",
            "output length  13.133333333333333\n",
            "start: Enfin, il s'agit de protéger l'enquête elle-même, enquête qui se poursuit dans de nombreuses directions, et qui aboutit à la décision d'inculper ou non une personne ou une chose en particulier.\n"
          ]
        },
        {
          "output_type": "stream",
          "name": "stderr",
          "text": [
            "100%|██████████| 663/663 [00:07<00:00, 91.89it/s]\n",
            "100%|██████████| 34/34 [00:21<00:00,  1.56it/s]\n"
          ]
        },
        {
          "output_type": "stream",
          "name": "stdout",
          "text": [
            "video_original_length  13.0\n",
            "output length  13.28\n",
            "start: Et si les témoins et les sujets potentiels savaient tout ce que les enquêteurs avaient examiné et étaient sur le point de l'examiner, cela pourrait bien changer le témoignage et nous rendre les témoins inaccessibles.\n"
          ]
        },
        {
          "output_type": "stream",
          "name": "stderr",
          "text": [
            "100%|██████████| 616/616 [00:06<00:00, 93.33it/s]\n",
            "100%|██████████| 31/31 [00:20<00:00,  1.55it/s]\n"
          ]
        },
        {
          "output_type": "stream",
          "name": "stdout",
          "text": [
            "video_original_length  13.0\n",
            "output length  12.333333333333334\n",
            "start: Et cela n'est pas propre aux enquêtes de Trump.\n"
          ]
        },
        {
          "output_type": "stream",
          "name": "stderr",
          "text": [
            "100%|██████████| 174/174 [00:01<00:00, 93.24it/s]\n",
            "100%|██████████| 9/9 [00:05<00:00,  1.58it/s]\n"
          ]
        },
        {
          "output_type": "stream",
          "name": "stdout",
          "text": [
            "video_original_length  3.0\n",
            "output length  3.48\n",
            "start: Eh bien, c'est une règle pour toutes les enquêtes. C'est une partie de ce que nous appelons notre Manuel de justice. Il y a probablement au moins 30 ans et probablement plus longtemps.\n"
          ]
        },
        {
          "output_type": "stream",
          "name": "stderr",
          "text": [
            "100%|██████████| 618/618 [00:06<00:00, 95.03it/s]\n",
            "100%|██████████| 31/31 [00:20<00:00,  1.52it/s]\n"
          ]
        },
        {
          "output_type": "stream",
          "name": "stdout",
          "text": [
            "video_original_length  10.0\n",
            "output length  12.373333333333333\n",
            "start: Aidez-nous à comprendre le moment. Ces poursuites contre l'ancien président se déroulent pendant la campagne. Vous pourriez faire valoir que c'est le pire moment possible.\n"
          ]
        },
        {
          "output_type": "stream",
          "name": "stderr",
          "text": [
            "100%|██████████| 572/572 [00:06<00:00, 93.90it/s]\n",
            "100%|██████████| 29/29 [00:18<00:00,  1.54it/s]\n"
          ]
        },
        {
          "output_type": "stream",
          "name": "stdout",
          "text": [
            "video_original_length  13.0\n",
            "output length  11.453333333333333\n",
            "start: Le ministère de la Justice a des pratiques générales selon lesquelles il ne prend pas de mesures évidentes ou ne facture pas dans un mois ou deux après une élection, mais nous ne sommes manifestement pas dans ce délai.\n"
          ]
        },
        {
          "output_type": "stream",
          "name": "stderr",
          "text": [
            "100%|██████████| 630/630 [00:06<00:00, 93.97it/s]\n",
            "100%|██████████| 32/32 [00:20<00:00,  1.55it/s]\n"
          ]
        },
        {
          "output_type": "stream",
          "name": "stdout",
          "text": [
            "video_original_length  14.0\n",
            "output length  12.613333333333333\n",
            "start: Dans ces cas, les procureurs, les conseillers spéciaux, ils suivent les faits et la loi où ils mènent leurs activités et, lorsqu'ils ont recueilli la preuve nécessaire pour rendre une décision d'accusation et qu'ils ont décidé qu'une accusation était justifiée, ils présentent leurs affaires.\n"
          ]
        },
        {
          "output_type": "stream",
          "name": "stderr",
          "text": [
            "100%|██████████| 598/598 [00:06<00:00, 93.73it/s]\n",
            "100%|██████████| 30/30 [00:19<00:00,  1.52it/s]\n"
          ]
        },
        {
          "output_type": "stream",
          "name": "stdout",
          "text": [
            "video_original_length  18.0\n",
            "output length  11.973333333333333\n",
            "start: L'enquête elle-même a déterminé le moment.\n"
          ]
        },
        {
          "output_type": "stream",
          "name": "stderr",
          "text": [
            "100%|██████████| 182/182 [00:01<00:00, 94.32it/s]\n",
            "100%|██████████| 10/10 [00:05<00:00,  1.68it/s]\n"
          ]
        },
        {
          "output_type": "stream",
          "name": "stdout",
          "text": [
            "video_original_length  4.0\n",
            "output length  3.64\n",
            "start: Oui, c'est exactement le cas.\n"
          ]
        },
        {
          "output_type": "stream",
          "name": "stderr",
          "text": [
            "100%|██████████| 125/125 [00:01<00:00, 88.66it/s]\n",
            "100%|██████████| 7/7 [00:04<00:00,  1.73it/s]\n"
          ]
        },
        {
          "output_type": "stream",
          "name": "stdout",
          "text": [
            "video_original_length  1.0\n",
            "output length  2.493333333333333\n",
            "start: Vos critiques disent qu'il est temps de ruiner les chances de M. Trump à l'élection.\n"
          ]
        },
        {
          "output_type": "stream",
          "name": "stderr",
          "text": [
            "100%|██████████| 276/276 [00:02<00:00, 95.68it/s]\n",
            "100%|██████████| 14/14 [00:09<00:00,  1.54it/s]\n"
          ]
        },
        {
          "output_type": "stream",
          "name": "stdout",
          "text": [
            "video_original_length  6.0\n",
            "output length  5.52\n",
            "start: Ce n'est absolument pas vrai. Les procureurs du ministère de la Justice sont non partisans et ne permettent pas que des considérations partisanes jouent un rôle dans leurs décisions.\n"
          ]
        },
        {
          "output_type": "stream",
          "name": "stderr",
          "text": [
            "100%|██████████| 579/579 [00:06<00:00, 95.29it/s]\n",
            "100%|██████████| 29/29 [00:19<00:00,  1.53it/s]\n"
          ]
        },
        {
          "output_type": "stream",
          "name": "stdout",
          "text": [
            "video_original_length  10.0\n",
            "output length  11.6\n",
            "start: Le procureur dans les affaires Trump est Jack Smith. Il a été nommé par Garland avocat spécial. C'est un poste en vertu des règlements du ministère de la Justice conçus pour lui accorder une grande indépendance par rapport au ministère et à la Maison Blanche.\n"
          ]
        },
        {
          "output_type": "stream",
          "name": "stderr",
          "text": [
            "100%|██████████| 705/705 [00:07<00:00, 93.65it/s]\n",
            "100%|██████████| 36/36 [00:23<00:00,  1.55it/s]\n"
          ]
        },
        {
          "output_type": "stream",
          "name": "stdout",
          "text": [
            "video_original_length  18.0\n",
            "output length  14.12\n",
            "start: Le plus important aspect de la réglementation est que le conseiller spécial n'est soumis à la surveillance quotidienne de personne au sein du Département de la justice.\n"
          ]
        },
        {
          "output_type": "stream",
          "name": "stderr",
          "text": [
            "100%|██████████| 530/530 [00:05<00:00, 94.23it/s]\n",
            "100%|██████████| 27/27 [00:17<00:00,  1.57it/s]\n"
          ]
        },
        {
          "output_type": "stream",
          "name": "stdout",
          "text": [
            "video_original_length  10.0\n",
            "output length  10.613333333333333\n",
            "start: Vous n'êtes pas en communication avec le président ou un membre de son administration en ce qui concerne l'enquête sur l'ancien président Trump.\n"
          ]
        },
        {
          "output_type": "stream",
          "name": "stderr",
          "text": [
            "100%|██████████| 437/437 [00:04<00:00, 94.82it/s]\n",
            "100%|██████████| 22/22 [00:14<00:00,  1.53it/s]\n"
          ]
        },
        {
          "output_type": "stream",
          "name": "stdout",
          "text": [
            "video_original_length  8.0\n",
            "output length  8.746666666666666\n",
            "start: Non, je ne le suis pas.\n"
          ]
        },
        {
          "output_type": "stream",
          "name": "stderr",
          "text": [
            "100%|██████████| 141/141 [00:01<00:00, 92.34it/s]\n",
            "100%|██████████| 8/8 [00:04<00:00,  1.71it/s]\n"
          ]
        },
        {
          "output_type": "stream",
          "name": "stdout",
          "text": [
            "video_original_length  1.0\n",
            "output length  2.8133333333333335\n",
            "start: Si le président Biden vous demandait de prendre des mesures à l'égard de l'enquête Trump, quelle serait votre réaction?\n"
          ]
        },
        {
          "output_type": "stream",
          "name": "stderr",
          "text": [
            "100%|██████████| 430/430 [00:04<00:00, 92.83it/s]\n",
            "100%|██████████| 22/22 [00:14<00:00,  1.55it/s]\n"
          ]
        },
        {
          "output_type": "stream",
          "name": "stdout",
          "text": [
            "video_original_length  10.0\n",
            "output length  8.613333333333333\n",
            "start: Je suis sûr que cela ne se produira pas, mais je ne ferai rien à cet égard.\n"
          ]
        },
        {
          "output_type": "stream",
          "name": "stderr",
          "text": [
            "100%|██████████| 327/327 [00:03<00:00, 91.83it/s]\n",
            "100%|██████████| 17/17 [00:10<00:00,  1.58it/s]\n"
          ]
        },
        {
          "output_type": "stream",
          "name": "stdout",
          "text": [
            "video_original_length  6.0\n",
            "output length  6.546666666666667\n",
            "start: Et si nécessaire, je démissionnerais, mais il n'y a aucun sens que cela se produise.\n"
          ]
        },
        {
          "output_type": "stream",
          "name": "stderr",
          "text": [
            "100%|██████████| 325/325 [00:03<00:00, 92.67it/s]\n",
            "100%|██████████| 17/17 [00:10<00:00,  1.58it/s]\n"
          ]
        },
        {
          "output_type": "stream",
          "name": "stdout",
          "text": [
            "video_original_length  6.0\n",
            "output length  6.506666666666667\n",
            "start: Avez-vous déjà dû lui dire de ne pas ouvrir ces enquêtes, Monsieur le Président?\n"
          ]
        },
        {
          "output_type": "stream",
          "name": "stderr",
          "text": [
            "100%|██████████| 296/296 [00:03<00:00, 88.57it/s]\n",
            "100%|██████████| 15/15 [00:09<00:00,  1.51it/s]\n"
          ]
        },
        {
          "output_type": "stream",
          "name": "stdout",
          "text": [
            "video_original_length  5.0\n",
            "output length  5.92\n",
            "start: Non, parce qu'il n'a jamais essayé de mettre la main sur ces enquêtes.\n"
          ]
        },
        {
          "output_type": "stream",
          "name": "stderr",
          "text": [
            "100%|██████████| 275/275 [00:03<00:00, 91.22it/s]\n",
            "100%|██████████| 14/14 [00:09<00:00,  1.53it/s]\n"
          ]
        },
        {
          "output_type": "stream",
          "name": "stdout",
          "text": [
            "video_original_length  4.0\n",
            "output length  5.506666666666667\n",
            "start: Par ailleurs, le président Biden lui-même fait l'objet d'une enquête menée par un procureur spécial pour déterminer s'il a détenu des documents classifiés à mauvais escient après avoir été vice-président.\n"
          ]
        },
        {
          "output_type": "stream",
          "name": "stderr",
          "text": [
            "100%|██████████| 662/662 [00:07<00:00, 92.17it/s]\n",
            "100%|██████████| 34/34 [00:21<00:00,  1.56it/s]\n"
          ]
        },
        {
          "output_type": "stream",
          "name": "stdout",
          "text": [
            "video_original_length  12.0\n",
            "output length  13.253333333333334\n",
            "start: Son fils, Hunter Biden, fait l'objet d'une enquête de quatre ans sur ses affaires et ses impôts.\n"
          ]
        },
        {
          "output_type": "stream",
          "name": "stderr",
          "text": [
            "100%|██████████| 361/361 [00:03<00:00, 93.86it/s]\n",
            "100%|██████████| 19/19 [00:11<00:00,  1.59it/s]\n"
          ]
        },
        {
          "output_type": "stream",
          "name": "stdout",
          "text": [
            "video_original_length  9.0\n",
            "output length  7.226666666666667\n",
            "start: Il a été inculpé pour avoir menti au sujet de l'abus de drogues lorsqu'il a acheté une arme à feu.\n"
          ]
        },
        {
          "output_type": "stream",
          "name": "stderr",
          "text": [
            "100%|██████████| 356/356 [00:03<00:00, 94.22it/s]\n",
            "100%|██████████| 18/18 [00:11<00:00,  1.55it/s]\n"
          ]
        },
        {
          "output_type": "stream",
          "name": "stdout",
          "text": [
            "video_original_length  6.0\n",
            "output length  7.133333333333334\n",
            "start: Les républicains accusent David Weiss, avocat spécial, de ralentir l'enquête de Hunter Biden.\n"
          ]
        },
        {
          "output_type": "stream",
          "name": "stderr",
          "text": [
            "100%|██████████| 408/408 [00:04<00:00, 93.60it/s]\n",
            "100%|██████████| 21/21 [00:13<00:00,  1.57it/s]\n"
          ]
        },
        {
          "output_type": "stream",
          "name": "stdout",
          "text": [
            "video_original_length  8.0\n",
            "output length  8.173333333333334\n",
            "start: L'allégation est que, Monsieur le Procureur général, ce que l'on décrit dans certains milieux comme le ministère de la Justice de Biden s'assouplit du fils du président.\n"
          ]
        },
        {
          "output_type": "stream",
          "name": "stderr",
          "text": [
            "100%|██████████| 592/592 [00:06<00:00, 92.45it/s]\n",
            "100%|██████████| 30/30 [00:19<00:00,  1.54it/s]\n"
          ]
        },
        {
          "output_type": "stream",
          "name": "stdout",
          "text": [
            "video_original_length  14.0\n",
            "output length  11.853333333333333\n",
            "start: Eh bien, cette enquête a commencé sous la direction de David Weiss.\n"
          ]
        },
        {
          "output_type": "stream",
          "name": "stderr",
          "text": [
            "100%|██████████| 244/244 [00:02<00:00, 95.99it/s]\n",
            "100%|██████████| 13/13 [00:07<00:00,  1.70it/s]\n"
          ]
        },
        {
          "output_type": "stream",
          "name": "stdout",
          "text": [
            "video_original_length  5.0\n",
            "output length  4.88\n",
            "start: David Weiss est un procureur de longue date et a été nommé par M. Trump Procureur des États-Unis pour le district du Delaware.\n"
          ]
        },
        {
          "output_type": "stream",
          "name": "stderr",
          "text": [
            "100%|██████████| 499/499 [00:05<00:00, 95.12it/s]\n",
            "100%|██████████| 25/25 [00:15<00:00,  1.58it/s]\n"
          ]
        },
        {
          "output_type": "stream",
          "name": "stdout",
          "text": [
            "video_original_length  10.0\n",
            "output length  10.0\n",
            "start: J'ai promis à l'audience de mise en candidature que je continuerais à occuper ce poste et que je ne m'immiscerait pas dans cette enquête.\n"
          ]
        },
        {
          "output_type": "stream",
          "name": "stderr",
          "text": [
            "100%|██████████| 452/452 [00:04<00:00, 95.01it/s]\n",
            "100%|██████████| 23/23 [00:14<00:00,  1.59it/s]\n"
          ]
        },
        {
          "output_type": "stream",
          "name": "stdout",
          "text": [
            "video_original_length  8.0\n",
            "output length  9.053333333333333\n",
            "start: Vous ne participez pas à ces décisions.\n"
          ]
        },
        {
          "output_type": "stream",
          "name": "stderr",
          "text": [
            "100%|██████████| 322/322 [00:03<00:00, 95.98it/s]\n",
            "100%|██████████| 17/17 [00:10<00:00,  1.69it/s]\n"
          ]
        },
        {
          "output_type": "stream",
          "name": "stdout",
          "text": [
            "video_original_length  3.0\n",
            "output length  6.44\n",
            "start: Non, M. Weiss prend ces décisions.\n"
          ]
        },
        {
          "output_type": "stream",
          "name": "stderr",
          "text": [
            "100%|██████████| 143/143 [00:01<00:00, 97.48it/s]\n",
            "100%|██████████| 8/8 [00:04<00:00,  1.79it/s]\n"
          ]
        },
        {
          "output_type": "stream",
          "name": "stdout",
          "text": [
            "video_original_length  2.0\n",
            "output length  2.8533333333333335\n",
            "start: La Maison Blanche ne tente pas d'influencer ces décisions.\n"
          ]
        },
        {
          "output_type": "stream",
          "name": "stderr",
          "text": [
            "100%|██████████| 224/224 [00:02<00:00, 98.10it/s]\n",
            "100%|██████████| 12/12 [00:07<00:00,  1.67it/s]\n"
          ]
        },
        {
          "output_type": "stream",
          "name": "stdout",
          "text": [
            "video_original_length  3.0\n",
            "output length  4.48\n",
            "start: Pas absolument.\n"
          ]
        },
        {
          "output_type": "stream",
          "name": "stderr",
          "text": [
            "100%|██████████| 71/71 [00:00<00:00, 94.08it/s]\n",
            "100%|██████████| 4/4 [00:02<00:00,  1.82it/s]\n"
          ]
        },
        {
          "output_type": "stream",
          "name": "stdout",
          "text": [
            "video_original_length  2.0\n",
            "output length  1.4133333333333333\n",
            "start: Et il nous a dit que nous n'aurons pas à prendre son mot pour cela.\n"
          ]
        },
        {
          "output_type": "stream",
          "name": "stderr",
          "text": [
            "100%|██████████| 241/241 [00:02<00:00, 98.40it/s]\n",
            "100%|██████████| 13/13 [00:07<00:00,  1.74it/s]\n"
          ]
        },
        {
          "output_type": "stream",
          "name": "stdout",
          "text": [
            "video_original_length  4.0\n",
            "output length  4.826666666666667\n",
            "start: En vertu des règlements du ministère de la Justice, un conseiller spécial doit rédiger un rapport final.\n"
          ]
        },
        {
          "output_type": "stream",
          "name": "stderr",
          "text": [
            "100%|██████████| 387/387 [00:03<00:00, 98.75it/s] \n",
            "100%|██████████| 20/20 [00:12<00:00,  1.66it/s]\n"
          ]
        },
        {
          "output_type": "stream",
          "name": "stdout",
          "text": [
            "video_original_length  6.0\n",
            "output length  7.746666666666667\n",
            "start: Je rendrai publiques les informations que la loi permet.\n"
          ]
        },
        {
          "output_type": "stream",
          "name": "stderr",
          "text": [
            "100%|██████████| 221/221 [00:02<00:00, 98.51it/s] \n",
            "100%|██████████| 12/12 [00:06<00:00,  1.75it/s]\n"
          ]
        },
        {
          "output_type": "stream",
          "name": "stdout",
          "text": [
            "video_original_length  5.0\n",
            "output length  4.426666666666667\n",
            "start: Cela n'est pas nécessaire pour expliquer leurs décisions en matière de poursuites, leurs décisions de poursuivre ou de ne pas poursuivre et leurs décisions stratégiques en cours de route.\n"
          ]
        },
        {
          "output_type": "stream",
          "name": "stderr",
          "text": [
            "100%|██████████| 630/630 [00:06<00:00, 98.23it/s] \n",
            "100%|██████████| 32/32 [00:20<00:00,  1.59it/s]\n"
          ]
        },
        {
          "output_type": "stream",
          "name": "stdout",
          "text": [
            "video_original_length  10.0\n",
            "output length  12.613333333333333\n",
            "start: Habituellement, les conseillers spéciaux ont témoigné à la fin de leurs rapports, et je m'attends à ce que c'est le cas ici.\n"
          ]
        },
        {
          "output_type": "stream",
          "name": "stderr",
          "text": [
            "100%|██████████| 432/432 [00:04<00:00, 97.07it/s]\n",
            "100%|██████████| 22/22 [00:13<00:00,  1.63it/s]\n"
          ]
        },
        {
          "output_type": "stream",
          "name": "stdout",
          "text": [
            "video_original_length  6.0\n",
            "output length  8.653333333333334\n",
            "start: Comment êtes-vous en relation avec le président?\n"
          ]
        },
        {
          "output_type": "stream",
          "name": "stderr",
          "text": [
            "100%|██████████| 187/187 [00:01<00:00, 95.56it/s]\n",
            "100%|██████████| 10/10 [00:06<00:00,  1.65it/s]\n"
          ]
        },
        {
          "output_type": "stream",
          "name": "stdout",
          "text": [
            "video_original_length  2.0\n",
            "output length  3.7466666666666666\n",
            "start: Il doit être gelé.\n"
          ]
        },
        {
          "output_type": "stream",
          "name": "stderr",
          "text": [
            "100%|██████████| 131/131 [00:01<00:00, 95.12it/s]\n",
            "100%|██████████| 7/7 [00:04<00:00,  1.65it/s]\n"
          ]
        },
        {
          "output_type": "stream",
          "name": "stdout",
          "text": [
            "video_original_length  2.0\n",
            "output length  2.6133333333333333\n",
            "start: J'ai de bonnes relations de travail avec le président.\n"
          ]
        },
        {
          "output_type": "stream",
          "name": "stderr",
          "text": [
            "100%|██████████| 207/207 [00:02<00:00, 96.64it/s]\n",
            "100%|██████████| 11/11 [00:06<00:00,  1.69it/s]\n"
          ]
        },
        {
          "output_type": "stream",
          "name": "stdout",
          "text": [
            "video_original_length  4.0\n",
            "output length  4.1466666666666665\n",
            "start: Bien, peut-être, mais peut-être pas aussi près.\n"
          ]
        },
        {
          "output_type": "stream",
          "name": "stderr",
          "text": [
            "100%|██████████| 198/198 [00:02<00:00, 94.30it/s]\n",
            "100%|██████████| 10/10 [00:06<00:00,  1.63it/s]\n"
          ]
        },
        {
          "output_type": "stream",
          "name": "stdout",
          "text": [
            "video_original_length  4.0\n",
            "output length  3.96\n",
            "start: Le président a abordé la question en août lorsqu'il a remarqué Garland à une activité à la Maison Blanche.\n"
          ]
        },
        {
          "output_type": "stream",
          "name": "stderr",
          "text": [
            "100%|██████████| 369/369 [00:03<00:00, 93.71it/s]\n",
            "100%|██████████| 19/19 [00:11<00:00,  1.61it/s]\n"
          ]
        },
        {
          "output_type": "stream",
          "name": "stdout",
          "text": [
            "video_original_length  6.0\n",
            "output length  7.386666666666667\n",
            "start: Le procureur général Garland, je ne vous ai pas vu depuis longtemps, et je suis heureux de vous voir.\n"
          ]
        },
        {
          "output_type": "stream",
          "name": "stderr",
          "text": [
            "100%|██████████| 369/369 [00:03<00:00, 96.05it/s]\n",
            "100%|██████████| 19/19 [00:11<00:00,  1.62it/s]\n"
          ]
        },
        {
          "output_type": "stream",
          "name": "stdout",
          "text": [
            "video_original_length  3.0\n",
            "output length  7.386666666666667\n",
            "start: Secrétaire du ministère du Patrimoine canadien, vous pensez que je fais du rire ou pas?\n"
          ]
        },
        {
          "output_type": "stream",
          "name": "stderr",
          "text": [
            "100%|██████████| 327/327 [00:03<00:00, 92.92it/s]\n",
            "100%|██████████| 17/17 [00:10<00:00,  1.64it/s]\n"
          ]
        },
        {
          "output_type": "stream",
          "name": "stdout",
          "text": [
            "video_original_length  3.0\n",
            "output length  6.546666666666667\n",
            "start: Le procureur général Garland dirige 115 000 employés, procureurs, agents du FBI et autres organismes fédéraux d'application de la loi.\n"
          ]
        },
        {
          "output_type": "stream",
          "name": "stderr",
          "text": [
            "100%|██████████| 560/560 [00:06<00:00, 92.98it/s]\n",
            "100%|██████████| 29/29 [00:18<00:00,  1.61it/s]\n"
          ]
        },
        {
          "output_type": "stream",
          "name": "stdout",
          "text": [
            "video_original_length  10.0\n",
            "output length  11.213333333333333\n",
            "start: Des mesures de sécurité supplémentaires sont désormais prévues pour protéger les juges et les procureurs après que les affaires Trump aient suscité des menaces de mort.\n"
          ]
        },
        {
          "output_type": "stream",
          "name": "stderr",
          "text": [
            "100%|██████████| 517/517 [00:05<00:00, 95.22it/s]\n",
            "100%|██████████| 26/26 [00:16<00:00,  1.58it/s]\n"
          ]
        },
        {
          "output_type": "stream",
          "name": "stdout",
          "text": [
            "video_original_length  8.0\n",
            "output length  10.36\n",
            "start: La violence politique est l'une des préoccupations les plus graves de Garland.\n"
          ]
        },
        {
          "output_type": "stream",
          "name": "stderr",
          "text": [
            "100%|██████████| 266/266 [00:02<00:00, 94.61it/s]\n",
            "100%|██████████| 14/14 [00:08<00:00,  1.61it/s]\n"
          ]
        },
        {
          "output_type": "stream",
          "name": "stdout",
          "text": [
            "video_original_length  5.0\n",
            "output length  5.32\n",
            "start: Les gens peuvent se disputer autant qu'ils le veulent, et aussi violemment qu'ils le veulent.\n"
          ]
        },
        {
          "output_type": "stream",
          "name": "stderr",
          "text": [
            "100%|██████████| 305/305 [00:03<00:00, 96.27it/s]\n",
            "100%|██████████| 16/16 [00:09<00:00,  1.64it/s]\n"
          ]
        },
        {
          "output_type": "stream",
          "name": "stdout",
          "text": [
            "video_original_length  7.0\n",
            "output length  6.1066666666666665\n",
            "start: Mais il ne peut pas recourir à la violence et aux menaces de violence pour modifier le résultat.\n"
          ]
        },
        {
          "output_type": "stream",
          "name": "stderr",
          "text": [
            "100%|██████████| 282/282 [00:02<00:00, 96.36it/s]\n",
            "100%|██████████| 15/15 [00:09<00:00,  1.64it/s]\n"
          ]
        },
        {
          "output_type": "stream",
          "name": "stdout",
          "text": [
            "video_original_length  5.0\n",
            "output length  5.64\n",
            "start: Et l'aspect important de cette situation est le peuple américain lui-même.\n"
          ]
        },
        {
          "output_type": "stream",
          "name": "stderr",
          "text": [
            "100%|██████████| 275/275 [00:02<00:00, 97.50it/s]\n",
            "100%|██████████| 14/14 [00:08<00:00,  1.60it/s]\n"
          ]
        },
        {
          "output_type": "stream",
          "name": "stdout",
          "text": [
            "video_original_length  4.0\n",
            "output length  5.506666666666667\n",
            "start: Le peuple américain doit se protéger les uns des autres.\n"
          ]
        },
        {
          "output_type": "stream",
          "name": "stderr",
          "text": [
            "100%|██████████| 188/188 [00:01<00:00, 96.46it/s]\n",
            "100%|██████████| 10/10 [00:05<00:00,  1.70it/s]\n"
          ]
        },
        {
          "output_type": "stream",
          "name": "stdout",
          "text": [
            "video_original_length  3.0\n",
            "output length  3.76\n",
            "start: Ils doivent s’assurer qu’ils se traitent les uns les autres avec civilité et bonté, qu’ils écoutent les opinions opposées, qu’ils s’expriment aussi énergiquement qu’ils le souhaitent,\n"
          ]
        },
        {
          "output_type": "stream",
          "name": "stderr",
          "text": [
            "100%|██████████| 570/570 [00:06<00:00, 94.63it/s]\n",
            "100%|██████████| 29/29 [00:18<00:00,  1.60it/s]\n"
          ]
        },
        {
          "output_type": "stream",
          "name": "stdout",
          "text": [
            "video_original_length  16.0\n",
            "output length  11.413333333333334\n",
            "start: mais s'abstiennent de la violence et des menaces de violence.\n"
          ]
        },
        {
          "output_type": "stream",
          "name": "stderr",
          "text": [
            "100%|██████████| 353/353 [00:03<00:00, 98.37it/s] \n",
            "100%|██████████| 18/18 [00:11<00:00,  1.63it/s]\n"
          ]
        },
        {
          "output_type": "stream",
          "name": "stdout",
          "text": [
            "video_original_length  3.0\n",
            "output length  7.066666666666666\n",
            "start: C'est la seule façon dont cette démocratie survivra.\n"
          ]
        },
        {
          "output_type": "stream",
          "name": "stderr",
          "text": [
            "100%|██████████| 227/227 [00:02<00:00, 97.43it/s]\n",
            "100%|██████████| 12/12 [00:07<00:00,  1.68it/s]\n"
          ]
        },
        {
          "output_type": "stream",
          "name": "stdout",
          "text": [
            "video_original_length  3.0\n",
            "output length  4.546666666666667\n",
            "start: Pourquoi êtes-vous si convaincu de cela?\n"
          ]
        },
        {
          "output_type": "stream",
          "name": "stderr",
          "text": [
            "100%|██████████| 137/137 [00:01<00:00, 97.73it/s]\n",
            "100%|██████████| 7/7 [00:04<00:00,  1.66it/s]\n"
          ]
        },
        {
          "output_type": "stream",
          "name": "stdout",
          "text": [
            "video_original_length  2.0\n",
            "output length  2.7333333333333334\n",
            "start: Eh bien, je le pense pour un certain nombre de raisons et pour un certain nombre de choses que j'ai vues.\n"
          ]
        },
        {
          "output_type": "stream",
          "name": "stderr",
          "text": [
            "100%|██████████| 352/352 [00:03<00:00, 92.15it/s]\n",
            "100%|██████████| 18/18 [00:11<00:00,  1.61it/s]\n"
          ]
        },
        {
          "output_type": "stream",
          "name": "stdout",
          "text": [
            "video_original_length  5.0\n",
            "output length  7.053333333333334\n",
            "start: Mais pour ma propre famille qui a fui la persécution religieuse en Europe et pour certains de ses membres qui n'ont pas survécu lorsqu'ils sont arrivés aux États-Unis,\n"
          ]
        },
        {
          "output_type": "stream",
          "name": "stderr",
          "text": [
            "100%|██████████| 513/513 [00:05<00:00, 97.07it/s]\n",
            "100%|██████████| 26/26 [00:16<00:00,  1.59it/s]\n"
          ]
        },
        {
          "output_type": "stream",
          "name": "stdout",
          "text": [
            "video_original_length  17.0\n",
            "output length  10.28\n",
            "start: l’État-Unis protégé.\n"
          ]
        },
        {
          "output_type": "stream",
          "name": "stderr",
          "text": [
            "100%|██████████| 100/100 [00:01<00:00, 95.69it/s]\n",
            "100%|██████████| 5/5 [00:03<00:00,  1.50it/s]\n"
          ]
        },
        {
          "output_type": "stream",
          "name": "stdout",
          "text": [
            "video_original_length  7.0\n",
            "output length  2.0\n",
            "start: Elle garantit qu'ils peuvent pratiquer leur religion, qu'ils peuvent voter, qu'ils peuvent faire toutes les choses qu'ils pensent qu'une démocratie leur apportera.\n"
          ]
        },
        {
          "output_type": "stream",
          "name": "stderr",
          "text": [
            "100%|██████████| 495/495 [00:05<00:00, 94.83it/s]\n",
            "100%|██████████| 25/25 [00:15<00:00,  1.58it/s]\n"
          ]
        },
        {
          "output_type": "stream",
          "name": "stdout",
          "text": [
            "video_original_length  11.0\n",
            "output length  9.906666666666666\n",
            "start: C'est la différence entre ce pays et beaucoup d'autres pays.\n"
          ]
        },
        {
          "output_type": "stream",
          "name": "stderr",
          "text": [
            "100%|██████████| 194/194 [00:02<00:00, 88.67it/s]\n",
            "100%|██████████| 10/10 [00:06<00:00,  1.57it/s]\n"
          ]
        },
        {
          "output_type": "stream",
          "name": "stdout",
          "text": [
            "video_original_length  5.0\n",
            "output length  3.88\n",
            "start: C'est ma responsabilité, c'est la responsabilité du ministère de la Justice de veiller à ce que cette différence continue, à ce que nous nous protégeions les uns les autres.\n"
          ]
        },
        {
          "output_type": "stream",
          "name": "stderr",
          "text": [
            "100%|██████████| 605/605 [00:06<00:00, 92.86it/s]\n",
            "100%|██████████| 31/31 [00:19<00:00,  1.61it/s]\n"
          ]
        },
        {
          "output_type": "stream",
          "name": "stdout",
          "text": [
            "video_original_length  8.0\n",
            "output length  12.12\n",
            "start: Deux de vos ancêtres ont été assassinés lors de l'Holocauste.\n"
          ]
        },
        {
          "output_type": "stream",
          "name": "stderr",
          "text": [
            "100%|██████████| 245/245 [00:02<00:00, 95.53it/s]\n",
            "100%|██████████| 13/13 [00:07<00:00,  1.64it/s]\n"
          ]
        },
        {
          "output_type": "stream",
          "name": "stdout",
          "text": [
            "video_original_length  8.0\n",
            "output length  4.906666666666666\n",
            "start: Oui.\n"
          ]
        },
        {
          "output_type": "stream",
          "name": "stderr",
          "text": [
            "100%|██████████| 52/52 [00:00<00:00, 89.37it/s]\n",
            "100%|██████████| 3/3 [00:01<00:00,  1.80it/s]\n"
          ]
        },
        {
          "output_type": "stream",
          "name": "stdout",
          "text": [
            "video_original_length  1.0\n",
            "output length  1.04\n",
            "start: C'est pourquoi vous vous êtes consacré à la loi?\n"
          ]
        },
        {
          "output_type": "stream",
          "name": "stderr",
          "text": [
            "100%|██████████| 148/148 [00:01<00:00, 91.72it/s]\n",
            "100%|██████████| 8/8 [00:04<00:00,  1.71it/s]\n"
          ]
        },
        {
          "output_type": "stream",
          "name": "stdout",
          "text": [
            "video_original_length  3.0\n",
            "output length  2.96\n",
            "start: Oui. C'est pourquoi je me suis consacré à la primauté du droit, à la fonction publique, à essayer de faire en sorte que la primauté du droit gouverne ce pays et continue de gouverner ce pays.\n"
          ]
        },
        {
          "output_type": "stream",
          "name": "stderr",
          "text": [
            "100%|██████████| 666/666 [00:07<00:00, 94.13it/s]\n",
            "100%|██████████| 34/34 [00:21<00:00,  1.60it/s]\n"
          ]
        },
        {
          "output_type": "stream",
          "name": "stdout",
          "text": [
            "video_original_length  15.0\n",
            "output length  13.346666666666666\n",
            "start: Merrick Garland a passé une vie en droit.\n"
          ]
        },
        {
          "output_type": "stream",
          "name": "stderr",
          "text": [
            "100%|██████████| 139/139 [00:01<00:00, 96.03it/s]\n",
            "100%|██████████| 7/7 [00:04<00:00,  1.58it/s]\n"
          ]
        },
        {
          "output_type": "stream",
          "name": "stdout",
          "text": [
            "video_original_length  3.0\n",
            "output length  2.7733333333333334\n",
            "start: M-E-R-R-I-C-K-G-A-R-L-A-N-D, il est sous-procureur général délégué.\n"
          ]
        },
        {
          "output_type": "stream",
          "name": "stderr",
          "text": [
            "100%|██████████| 663/663 [00:06<00:00, 96.63it/s]\n",
            "100%|██████████| 34/34 [00:21<00:00,  1.59it/s]\n"
          ]
        },
        {
          "output_type": "stream",
          "name": "stdout",
          "text": [
            "video_original_length  6.0\n",
            "output length  13.28\n",
            "start: Justice, il a supervisé l'affaire de l'attentat à la bombe d'Oklahoma City, acte de terrorisme politique.\n"
          ]
        },
        {
          "output_type": "stream",
          "name": "stderr",
          "text": [
            "100%|██████████| 451/451 [00:04<00:00, 95.30it/s]\n",
            "100%|██████████| 23/23 [00:14<00:00,  1.57it/s]\n"
          ]
        },
        {
          "output_type": "stream",
          "name": "stdout",
          "text": [
            "video_original_length  6.0\n",
            "output length  9.026666666666667\n",
            "start: Plus tard, après près de deux décennies de carrière en tant que juge de la cour d'appel fédérale, il a été nommé à la Cour suprême des États-Unis par le président Obama.\n"
          ]
        },
        {
          "output_type": "stream",
          "name": "stderr",
          "text": [
            "100%|██████████| 567/567 [00:05<00:00, 100.93it/s]\n",
            "100%|██████████| 29/29 [00:17<00:00,  1.68it/s]\n"
          ]
        },
        {
          "output_type": "stream",
          "name": "stdout",
          "text": [
            "video_original_length  9.0\n",
            "output length  11.36\n",
            "start: Mais les républicains ont bloqué la nomination pendant dix mois avant que Donald Trump ne soit assermenté.\n"
          ]
        },
        {
          "output_type": "stream",
          "name": "stderr",
          "text": [
            "100%|██████████| 364/364 [00:03<00:00, 100.17it/s]\n",
            "100%|██████████| 19/19 [00:10<00:00,  1.73it/s]\n"
          ]
        },
        {
          "output_type": "stream",
          "name": "stdout",
          "text": [
            "video_original_length  7.0\n",
            "output length  7.293333333333333\n",
            "start: Le président élu Biden a choisi Garland pour le poste de procureur général.\n"
          ]
        },
        {
          "output_type": "stream",
          "name": "stderr",
          "text": [
            "100%|██████████| 630/630 [00:06<00:00, 100.95it/s]\n",
            "100%|██████████| 32/32 [00:19<00:00,  1.66it/s]\n"
          ]
        },
        {
          "output_type": "stream",
          "name": "stdout",
          "text": [
            "video_original_length  4.0\n",
            "output length  12.613333333333333\n",
            "start: Le même jour, le Capitole fut attaqué, ce qui devenait l'une des plus grandes enquêtes de l'histoire du Ministère.\n"
          ]
        },
        {
          "output_type": "stream",
          "name": "stderr",
          "text": [
            "100%|██████████| 428/428 [00:04<00:00, 101.52it/s]\n",
            "100%|██████████| 22/22 [00:12<00:00,  1.70it/s]\n"
          ]
        },
        {
          "output_type": "stream",
          "name": "stdout",
          "text": [
            "video_original_length  9.0\n",
            "output length  8.573333333333334\n",
            "start: Nous avons arrêté et inculpé plus de 1 100 personnes.\n"
          ]
        },
        {
          "output_type": "stream",
          "name": "stderr",
          "text": [
            "100%|██████████| 225/225 [00:02<00:00, 102.89it/s]\n",
            "100%|██████████| 12/12 [00:06<00:00,  1.77it/s]\n"
          ]
        },
        {
          "output_type": "stream",
          "name": "stdout",
          "text": [
            "video_original_length  6.0\n",
            "output length  4.506666666666667\n",
            "start: Les vidéos que chaque personne avait sur son téléphone, que les caméras de sécurité avaient, que les spectateurs avaient, que les médias avaient à l'époque, révélaient des visages, dont certains n'ont pas encore pu se connecter aux gens.\n"
          ]
        },
        {
          "output_type": "stream",
          "name": "stderr",
          "text": [
            "100%|██████████| 695/695 [00:06<00:00, 101.53it/s]\n",
            "100%|██████████| 35/35 [00:21<00:00,  1.66it/s]\n"
          ]
        },
        {
          "output_type": "stream",
          "name": "stdout",
          "text": [
            "video_original_length  19.0\n",
            "output length  13.92\n",
            "start: Vous cherchez de nouveaux suspects, de nouveaux accusés encore.\n"
          ]
        },
        {
          "output_type": "stream",
          "name": "stderr",
          "text": [
            "100%|██████████| 251/251 [00:02<00:00, 102.54it/s]\n",
            "100%|██████████| 13/13 [00:07<00:00,  1.73it/s]\n"
          ]
        },
        {
          "output_type": "stream",
          "name": "stdout",
          "text": [
            "video_original_length  3.0\n",
            "output length  5.026666666666666\n",
            "start: Oui, ce n'est pas parce qu'ils sont de nouveaux suspects, mais parce qu'ils sont des personnes que nous n'avons pas encore trouvées.\n"
          ]
        },
        {
          "output_type": "stream",
          "name": "stderr",
          "text": [
            "100%|██████████| 382/382 [00:03<00:00, 103.92it/s]\n",
            "100%|██████████| 20/20 [00:11<00:00,  1.75it/s]\n"
          ]
        },
        {
          "output_type": "stream",
          "name": "stdout",
          "text": [
            "video_original_length  4.0\n",
            "output length  7.653333333333333\n",
            "start: Pourquoi ces poursuites vous valent-elles tant?\n"
          ]
        },
        {
          "output_type": "stream",
          "name": "stderr",
          "text": [
            "100%|██████████| 166/166 [00:01<00:00, 101.45it/s]\n",
            "100%|██████████| 9/9 [00:05<00:00,  1.79it/s]\n"
          ]
        },
        {
          "output_type": "stream",
          "name": "stdout",
          "text": [
            "video_original_length  4.0\n",
            "output length  3.32\n",
            "start: Parce qu'il s'agit d'un aspect fondamental de notre démocratie et que si nous ne pouvons pas nous assurer que ce genre de comportement ne se reproduise pas, il se reproduira.\n"
          ]
        },
        {
          "output_type": "stream",
          "name": "stderr",
          "text": [
            "100%|██████████| 575/575 [00:05<00:00, 104.57it/s]\n",
            "100%|██████████| 29/29 [00:17<00:00,  1.67it/s]\n"
          ]
        },
        {
          "output_type": "stream",
          "name": "stdout",
          "text": [
            "video_original_length  8.0\n",
            "output length  11.52\n",
            "start: Les poursuites que nous engageons sont une mesure de dissuasion contre ce genre de fait.\n"
          ]
        },
        {
          "output_type": "stream",
          "name": "stderr",
          "text": [
            "100%|██████████| 330/330 [00:03<00:00, 103.50it/s]\n",
            "100%|██████████| 17/17 [00:10<00:00,  1.68it/s]\n"
          ]
        },
        {
          "output_type": "stream",
          "name": "stdout",
          "text": [
            "video_original_length  5.0\n",
            "output length  6.6\n",
            "start: Garland sait qu'il sera vilifié, peu importe la manière dont les affaires Trump et Biden seront tranchées.\n"
          ]
        },
        {
          "output_type": "stream",
          "name": "stderr",
          "text": [
            "100%|██████████| 380/380 [00:03<00:00, 102.71it/s]\n",
            "100%|██████████| 20/20 [00:11<00:00,  1.72it/s]\n"
          ]
        },
        {
          "output_type": "stream",
          "name": "stdout",
          "text": [
            "video_original_length  6.0\n",
            "output length  7.613333333333333\n",
            "start: Il nous a dit qu'il avait pour tâche de prendre les flèches pour le ministère.\n"
          ]
        },
        {
          "output_type": "stream",
          "name": "stderr",
          "text": [
            "100%|██████████| 289/289 [00:02<00:00, 104.38it/s]\n",
            "100%|██████████| 15/15 [00:08<00:00,  1.70it/s]\n"
          ]
        },
        {
          "output_type": "stream",
          "name": "stdout",
          "text": [
            "video_original_length  5.0\n",
            "output length  5.786666666666667\n",
            "start: Il a appris à s'acquitter de la douleur qui accompagne le travail.\n"
          ]
        },
        {
          "output_type": "stream",
          "name": "stderr",
          "text": [
            "100%|██████████| 237/237 [00:02<00:00, 101.64it/s]\n",
            "100%|██████████| 12/12 [00:07<00:00,  1.68it/s]\n"
          ]
        },
        {
          "output_type": "stream",
          "name": "stdout",
          "text": [
            "video_original_length  4.0\n",
            "output length  4.746666666666667\n",
            "start: Le plus jeune est Riot Mitchell, âgé de huit mois à jamais.\n"
          ]
        },
        {
          "output_type": "stream",
          "name": "stderr",
          "text": [
            "100%|██████████| 231/231 [00:02<00:00, 99.52it/s]\n",
            "100%|██████████| 12/12 [00:06<00:00,  1.75it/s]\n"
          ]
        },
        {
          "output_type": "stream",
          "name": "stdout",
          "text": [
            "video_original_length  4.0\n",
            "output length  4.626666666666667\n",
            "start: Nous avons vu cela au siège de la DEA, où il était entouré de ceux qui ont perdu la vie à cause de l'épidémie d'opiodes.\n"
          ]
        },
        {
          "output_type": "stream",
          "name": "stderr",
          "text": [
            "100%|██████████| 446/446 [00:04<00:00, 99.39it/s] \n",
            "100%|██████████| 23/23 [00:13<00:00,  1.68it/s]\n"
          ]
        },
        {
          "output_type": "stream",
          "name": "stdout",
          "text": [
            "video_original_length  7.0\n",
            "output length  8.933333333333334\n",
            "start: C'est le procureur général, Merrick Garland.\n"
          ]
        },
        {
          "output_type": "stream",
          "name": "stderr",
          "text": [
            "100%|██████████| 173/173 [00:01<00:00, 101.37it/s]\n",
            "100%|██████████| 9/9 [00:05<00:00,  1.72it/s]\n"
          ]
        },
        {
          "output_type": "stream",
          "name": "stdout",
          "text": [
            "video_original_length  3.0\n",
            "output length  3.466666666666667\n",
            "start: Il nous a dit que la rencontre avec eux lui rappelle pourquoi il combat et pour qui il lutte.\n"
          ]
        },
        {
          "output_type": "stream",
          "name": "stderr",
          "text": [
            "100%|██████████| 320/320 [00:03<00:00, 102.65it/s]\n",
            "100%|██████████| 16/16 [00:09<00:00,  1.69it/s]\n"
          ]
        },
        {
          "output_type": "stream",
          "name": "stdout",
          "text": [
            "video_original_length  9.0\n",
            "output length  6.4\n",
            "start: Merci d'être ici et de nous écouter.\n"
          ]
        },
        {
          "output_type": "stream",
          "name": "stderr",
          "text": [
            "100%|██████████| 144/144 [00:01<00:00, 102.92it/s]\n",
            "100%|██████████| 8/8 [00:04<00:00,  1.83it/s]\n"
          ]
        },
        {
          "output_type": "stream",
          "name": "stdout",
          "text": [
            "video_original_length  2.0\n",
            "output length  2.88\n",
            "start: Je représente le peuple américain, je ne représente pas le président, je représente le peuple américain.\n"
          ]
        },
        {
          "output_type": "stream",
          "name": "stderr",
          "text": [
            "100%|██████████| 400/400 [00:03<00:00, 105.84it/s]\n",
            "100%|██████████| 21/21 [00:12<00:00,  1.73it/s]\n"
          ]
        },
        {
          "output_type": "stream",
          "name": "stdout",
          "text": [
            "video_original_length  6.0\n",
            "output length  8.013333333333334\n",
            "start: De même, je ne suis pas le procureur du Congrès, mais je travaille pour le peuple américain.\n"
          ]
        },
        {
          "output_type": "stream",
          "name": "stderr",
          "text": [
            "100%|██████████| 372/372 [00:03<00:00, 103.86it/s]\n",
            "100%|██████████| 19/19 [00:11<00:00,  1.69it/s]\n"
          ]
        },
        {
          "output_type": "stream",
          "name": "stdout",
          "text": [
            "video_original_length  7.0\n",
            "output length  7.453333333333333\n",
            "start: Et si la démocratie est un sujet émotionnel pour Merrick Garland, c'est peut-être parce qu'il a vu à quel point elle peut soudainement être menacée à Oklahoma City et à Washington, D.C.\n"
          ]
        },
        {
          "output_type": "stream",
          "name": "stderr",
          "text": [
            "100%|██████████| 604/604 [00:05<00:00, 101.93it/s]\n",
            "100%|██████████| 31/31 [00:18<00:00,  1.69it/s]\n"
          ]
        },
        {
          "output_type": "stream",
          "name": "stdout",
          "text": [
            "video_original_length  15.0\n",
            "output length  12.093333333333334\n",
            "start: Quand l'histoire de cette époque extraordinaire est écrite, quel est le meilleur que Merrick Garland puisse espérer?\n"
          ]
        },
        {
          "output_type": "stream",
          "name": "stderr",
          "text": [
            "100%|██████████| 401/401 [00:03<00:00, 102.41it/s]\n",
            "100%|██████████| 21/21 [00:12<00:00,  1.73it/s]\n"
          ]
        },
        {
          "output_type": "stream",
          "name": "stdout",
          "text": [
            "video_original_length  9.0\n",
            "output length  8.026666666666667\n",
            "start: Je crois que c'est le meilleur que tout fonctionnaire puisse espérer, que nous avons fait de notre mieux, que nous transmettions un ministère de la Justice qui continue de poursuivre la primauté du droit et de la protéger.\n"
          ]
        },
        {
          "output_type": "stream",
          "name": "stderr",
          "text": [
            "100%|██████████| 691/691 [00:06<00:00, 100.84it/s]\n",
            "100%|██████████| 35/35 [00:20<00:00,  1.71it/s]\n"
          ]
        },
        {
          "output_type": "stream",
          "name": "stdout",
          "text": [
            "video_original_length  13.0\n",
            "output length  13.84\n",
            "start: Et c'est la même chose que chaque génération doit espérer, que nous pouvons transmettre notre démocratie en bon état de marche à la prochaine génération qui prend le flambeau et qui est responsable, une fois terminée, de poursuivre ce travail.\n"
          ]
        },
        {
          "output_type": "stream",
          "name": "stderr",
          "text": [
            "100%|██████████| 697/697 [00:06<00:00, 104.20it/s]\n",
            "100%|██████████| 35/35 [00:20<00:00,  1.68it/s]\n"
          ]
        },
        {
          "output_type": "stream",
          "name": "stdout",
          "text": [
            "video_original_length  19.0\n",
            "output length  13.96\n"
          ]
        }
      ]
    }
  ]
}